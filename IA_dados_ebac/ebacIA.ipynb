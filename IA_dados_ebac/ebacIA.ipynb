{
  "nbformat": 4,
  "nbformat_minor": 0,
  "metadata": {
    "colab": {
      "name": "ebacIA.ipynb",
      "provenance": [],
      "collapsed_sections": []
    },
    "kernelspec": {
      "name": "python3",
      "display_name": "Python 3"
    },
    "language_info": {
      "name": "python"
    }
  },
  "cells": [
    {
      "cell_type": "code",
      "metadata": {
        "colab": {
          "base_uri": "https://localhost:8080/"
        },
        "id": "9CHD46yAGG2r",
        "outputId": "2bdc5caa-4321-473b-fab7-7f7d7ffe8a55"
      },
      "source": [
        "print('Hello Word!!')"
      ],
      "execution_count": 1,
      "outputs": [
        {
          "output_type": "stream",
          "text": [
            "Hello Word!!\n"
          ],
          "name": "stdout"
        }
      ]
    },
    {
      "cell_type": "code",
      "metadata": {
        "colab": {
          "base_uri": "https://localhost:8080/"
        },
        "id": "rVoUoPUIKkfd",
        "outputId": "4bb635e8-93c3-40a2-9ae9-9e3eb8e3452c"
      },
      "source": [
        "# importando pandas\n",
        "\n",
        "import pandas as pd\n",
        "\n",
        "df = pd.read_csv('kag.csv')\n",
        "\n",
        "print(type(df))"
      ],
      "execution_count": 2,
      "outputs": [
        {
          "output_type": "stream",
          "text": [
            "<class 'pandas.core.frame.DataFrame'>\n"
          ],
          "name": "stdout"
        }
      ]
    },
    {
      "cell_type": "markdown",
      "metadata": {
        "id": "zRhLYJMqMqKs"
      },
      "source": [
        "pre vizualizar os dados"
      ]
    },
    {
      "cell_type": "code",
      "metadata": {
        "colab": {
          "base_uri": "https://localhost:8080/",
          "height": 549
        },
        "id": "gdQkw1PONvfj",
        "outputId": "da89a861-f493-47ce-e026-3cbc7c44d61b"
      },
      "source": [
        "df.head(10)  # mostra por padrão as primeiras 5 linhas, se eu digitar outro valor no parenteses ele mostra o valor digitado"
      ],
      "execution_count": 3,
      "outputs": [
        {
          "output_type": "execute_result",
          "data": {
            "text/html": [
              "<div>\n",
              "<style scoped>\n",
              "    .dataframe tbody tr th:only-of-type {\n",
              "        vertical-align: middle;\n",
              "    }\n",
              "\n",
              "    .dataframe tbody tr th {\n",
              "        vertical-align: top;\n",
              "    }\n",
              "\n",
              "    .dataframe thead th {\n",
              "        text-align: right;\n",
              "    }\n",
              "</style>\n",
              "<table border=\"1\" class=\"dataframe\">\n",
              "  <thead>\n",
              "    <tr style=\"text-align: right;\">\n",
              "      <th></th>\n",
              "      <th>ad_id</th>\n",
              "      <th>xyz_campaign_id</th>\n",
              "      <th>fb_campaign_id</th>\n",
              "      <th>age</th>\n",
              "      <th>gender</th>\n",
              "      <th>interest</th>\n",
              "      <th>Impressions</th>\n",
              "      <th>Clicks</th>\n",
              "      <th>Spent</th>\n",
              "      <th>Total_Conversion</th>\n",
              "      <th>Approved_Conversion</th>\n",
              "    </tr>\n",
              "  </thead>\n",
              "  <tbody>\n",
              "    <tr>\n",
              "      <th>0</th>\n",
              "      <td>708746</td>\n",
              "      <td>916</td>\n",
              "      <td>103916</td>\n",
              "      <td>30-34</td>\n",
              "      <td>M</td>\n",
              "      <td>15</td>\n",
              "      <td>7350</td>\n",
              "      <td>1</td>\n",
              "      <td>1.43</td>\n",
              "      <td>2</td>\n",
              "      <td>1</td>\n",
              "    </tr>\n",
              "    <tr>\n",
              "      <th>1</th>\n",
              "      <td>708749</td>\n",
              "      <td>916</td>\n",
              "      <td>103917</td>\n",
              "      <td>30-34</td>\n",
              "      <td>M</td>\n",
              "      <td>16</td>\n",
              "      <td>17861</td>\n",
              "      <td>2</td>\n",
              "      <td>1.82</td>\n",
              "      <td>2</td>\n",
              "      <td>0</td>\n",
              "    </tr>\n",
              "    <tr>\n",
              "      <th>2</th>\n",
              "      <td>708771</td>\n",
              "      <td>916</td>\n",
              "      <td>103920</td>\n",
              "      <td>30-34</td>\n",
              "      <td>M</td>\n",
              "      <td>20</td>\n",
              "      <td>693</td>\n",
              "      <td>0</td>\n",
              "      <td>0.00</td>\n",
              "      <td>1</td>\n",
              "      <td>0</td>\n",
              "    </tr>\n",
              "    <tr>\n",
              "      <th>3</th>\n",
              "      <td>708815</td>\n",
              "      <td>916</td>\n",
              "      <td>103928</td>\n",
              "      <td>30-34</td>\n",
              "      <td>M</td>\n",
              "      <td>28</td>\n",
              "      <td>4259</td>\n",
              "      <td>1</td>\n",
              "      <td>1.25</td>\n",
              "      <td>1</td>\n",
              "      <td>0</td>\n",
              "    </tr>\n",
              "    <tr>\n",
              "      <th>4</th>\n",
              "      <td>708818</td>\n",
              "      <td>916</td>\n",
              "      <td>103928</td>\n",
              "      <td>30-34</td>\n",
              "      <td>M</td>\n",
              "      <td>28</td>\n",
              "      <td>4133</td>\n",
              "      <td>1</td>\n",
              "      <td>1.29</td>\n",
              "      <td>1</td>\n",
              "      <td>1</td>\n",
              "    </tr>\n",
              "    <tr>\n",
              "      <th>5</th>\n",
              "      <td>708820</td>\n",
              "      <td>916</td>\n",
              "      <td>103929</td>\n",
              "      <td>30-34</td>\n",
              "      <td>M</td>\n",
              "      <td>29</td>\n",
              "      <td>1915</td>\n",
              "      <td>0</td>\n",
              "      <td>0.00</td>\n",
              "      <td>1</td>\n",
              "      <td>1</td>\n",
              "    </tr>\n",
              "    <tr>\n",
              "      <th>6</th>\n",
              "      <td>708889</td>\n",
              "      <td>916</td>\n",
              "      <td>103940</td>\n",
              "      <td>30-34</td>\n",
              "      <td>M</td>\n",
              "      <td>15</td>\n",
              "      <td>15615</td>\n",
              "      <td>3</td>\n",
              "      <td>4.77</td>\n",
              "      <td>1</td>\n",
              "      <td>0</td>\n",
              "    </tr>\n",
              "    <tr>\n",
              "      <th>7</th>\n",
              "      <td>708895</td>\n",
              "      <td>916</td>\n",
              "      <td>103941</td>\n",
              "      <td>30-34</td>\n",
              "      <td>M</td>\n",
              "      <td>16</td>\n",
              "      <td>10951</td>\n",
              "      <td>1</td>\n",
              "      <td>1.27</td>\n",
              "      <td>1</td>\n",
              "      <td>1</td>\n",
              "    </tr>\n",
              "    <tr>\n",
              "      <th>8</th>\n",
              "      <td>708953</td>\n",
              "      <td>916</td>\n",
              "      <td>103951</td>\n",
              "      <td>30-34</td>\n",
              "      <td>M</td>\n",
              "      <td>27</td>\n",
              "      <td>2355</td>\n",
              "      <td>1</td>\n",
              "      <td>1.50</td>\n",
              "      <td>1</td>\n",
              "      <td>0</td>\n",
              "    </tr>\n",
              "    <tr>\n",
              "      <th>9</th>\n",
              "      <td>708958</td>\n",
              "      <td>916</td>\n",
              "      <td>103952</td>\n",
              "      <td>30-34</td>\n",
              "      <td>M</td>\n",
              "      <td>28</td>\n",
              "      <td>9502</td>\n",
              "      <td>3</td>\n",
              "      <td>3.16</td>\n",
              "      <td>1</td>\n",
              "      <td>0</td>\n",
              "    </tr>\n",
              "  </tbody>\n",
              "</table>\n",
              "</div>"
            ],
            "text/plain": [
              "    ad_id  xyz_campaign_id  ...  Total_Conversion Approved_Conversion\n",
              "0  708746              916  ...                 2                   1\n",
              "1  708749              916  ...                 2                   0\n",
              "2  708771              916  ...                 1                   0\n",
              "3  708815              916  ...                 1                   0\n",
              "4  708818              916  ...                 1                   1\n",
              "5  708820              916  ...                 1                   1\n",
              "6  708889              916  ...                 1                   0\n",
              "7  708895              916  ...                 1                   1\n",
              "8  708953              916  ...                 1                   0\n",
              "9  708958              916  ...                 1                   0\n",
              "\n",
              "[10 rows x 11 columns]"
            ]
          },
          "metadata": {
            "tags": []
          },
          "execution_count": 3
        }
      ]
    },
    {
      "cell_type": "code",
      "metadata": {
        "colab": {
          "base_uri": "https://localhost:8080/",
          "height": 309
        },
        "id": "a7qHhCxOTpmI",
        "outputId": "0ec0cb27-9f25-445b-b994-5e6595c1fddf"
      },
      "source": [
        "df.tail()\n"
      ],
      "execution_count": 4,
      "outputs": [
        {
          "output_type": "execute_result",
          "data": {
            "text/html": [
              "<div>\n",
              "<style scoped>\n",
              "    .dataframe tbody tr th:only-of-type {\n",
              "        vertical-align: middle;\n",
              "    }\n",
              "\n",
              "    .dataframe tbody tr th {\n",
              "        vertical-align: top;\n",
              "    }\n",
              "\n",
              "    .dataframe thead th {\n",
              "        text-align: right;\n",
              "    }\n",
              "</style>\n",
              "<table border=\"1\" class=\"dataframe\">\n",
              "  <thead>\n",
              "    <tr style=\"text-align: right;\">\n",
              "      <th></th>\n",
              "      <th>ad_id</th>\n",
              "      <th>xyz_campaign_id</th>\n",
              "      <th>fb_campaign_id</th>\n",
              "      <th>age</th>\n",
              "      <th>gender</th>\n",
              "      <th>interest</th>\n",
              "      <th>Impressions</th>\n",
              "      <th>Clicks</th>\n",
              "      <th>Spent</th>\n",
              "      <th>Total_Conversion</th>\n",
              "      <th>Approved_Conversion</th>\n",
              "    </tr>\n",
              "  </thead>\n",
              "  <tbody>\n",
              "    <tr>\n",
              "      <th>1138</th>\n",
              "      <td>1314410</td>\n",
              "      <td>1178</td>\n",
              "      <td>179977</td>\n",
              "      <td>45-49</td>\n",
              "      <td>F</td>\n",
              "      <td>109</td>\n",
              "      <td>1129773</td>\n",
              "      <td>252</td>\n",
              "      <td>358.189997</td>\n",
              "      <td>13</td>\n",
              "      <td>2</td>\n",
              "    </tr>\n",
              "    <tr>\n",
              "      <th>1139</th>\n",
              "      <td>1314411</td>\n",
              "      <td>1178</td>\n",
              "      <td>179978</td>\n",
              "      <td>45-49</td>\n",
              "      <td>F</td>\n",
              "      <td>110</td>\n",
              "      <td>637549</td>\n",
              "      <td>120</td>\n",
              "      <td>173.880003</td>\n",
              "      <td>3</td>\n",
              "      <td>0</td>\n",
              "    </tr>\n",
              "    <tr>\n",
              "      <th>1140</th>\n",
              "      <td>1314412</td>\n",
              "      <td>1178</td>\n",
              "      <td>179979</td>\n",
              "      <td>45-49</td>\n",
              "      <td>F</td>\n",
              "      <td>111</td>\n",
              "      <td>151531</td>\n",
              "      <td>28</td>\n",
              "      <td>40.289999</td>\n",
              "      <td>2</td>\n",
              "      <td>0</td>\n",
              "    </tr>\n",
              "    <tr>\n",
              "      <th>1141</th>\n",
              "      <td>1314414</td>\n",
              "      <td>1178</td>\n",
              "      <td>179981</td>\n",
              "      <td>45-49</td>\n",
              "      <td>F</td>\n",
              "      <td>113</td>\n",
              "      <td>790253</td>\n",
              "      <td>135</td>\n",
              "      <td>198.710000</td>\n",
              "      <td>8</td>\n",
              "      <td>2</td>\n",
              "    </tr>\n",
              "    <tr>\n",
              "      <th>1142</th>\n",
              "      <td>1314415</td>\n",
              "      <td>1178</td>\n",
              "      <td>179982</td>\n",
              "      <td>45-49</td>\n",
              "      <td>F</td>\n",
              "      <td>114</td>\n",
              "      <td>513161</td>\n",
              "      <td>114</td>\n",
              "      <td>165.609999</td>\n",
              "      <td>5</td>\n",
              "      <td>2</td>\n",
              "    </tr>\n",
              "  </tbody>\n",
              "</table>\n",
              "</div>"
            ],
            "text/plain": [
              "        ad_id  xyz_campaign_id  ...  Total_Conversion Approved_Conversion\n",
              "1138  1314410             1178  ...                13                   2\n",
              "1139  1314411             1178  ...                 3                   0\n",
              "1140  1314412             1178  ...                 2                   0\n",
              "1141  1314414             1178  ...                 8                   2\n",
              "1142  1314415             1178  ...                 5                   2\n",
              "\n",
              "[5 rows x 11 columns]"
            ]
          },
          "metadata": {
            "tags": []
          },
          "execution_count": 4
        }
      ]
    },
    {
      "cell_type": "code",
      "metadata": {
        "colab": {
          "base_uri": "https://localhost:8080/"
        },
        "id": "W3gEqpR8X4oP",
        "outputId": "be52eeac-998a-408a-f407-01064830f655"
      },
      "source": [
        "df.columns"
      ],
      "execution_count": 5,
      "outputs": [
        {
          "output_type": "execute_result",
          "data": {
            "text/plain": [
              "Index(['ad_id', 'xyz_campaign_id', 'fb_campaign_id', 'age', 'gender',\n",
              "       'interest', 'Impressions', 'Clicks', 'Spent', 'Total_Conversion',\n",
              "       'Approved_Conversion'],\n",
              "      dtype='object')"
            ]
          },
          "metadata": {
            "tags": []
          },
          "execution_count": 5
        }
      ]
    },
    {
      "cell_type": "code",
      "metadata": {
        "colab": {
          "base_uri": "https://localhost:8080/"
        },
        "id": "c-8ieGllYKuF",
        "outputId": "4c7e3a9c-5ccd-43b0-946b-e6a772b0bf90"
      },
      "source": [
        "df.index"
      ],
      "execution_count": 6,
      "outputs": [
        {
          "output_type": "execute_result",
          "data": {
            "text/plain": [
              "RangeIndex(start=0, stop=1143, step=1)"
            ]
          },
          "metadata": {
            "tags": []
          },
          "execution_count": 6
        }
      ]
    },
    {
      "cell_type": "code",
      "metadata": {
        "colab": {
          "base_uri": "https://localhost:8080/"
        },
        "id": "FNHueXkgYYON",
        "outputId": "8a83e458-e8fa-419c-c2d3-c06c90659287"
      },
      "source": [
        "df.shape"
      ],
      "execution_count": 7,
      "outputs": [
        {
          "output_type": "execute_result",
          "data": {
            "text/plain": [
              "(1143, 11)"
            ]
          },
          "metadata": {
            "tags": []
          },
          "execution_count": 7
        }
      ]
    },
    {
      "cell_type": "code",
      "metadata": {
        "id": "0rW7E-_jYeYY"
      },
      "source": [
        "linhas, colunas = df.shape"
      ],
      "execution_count": 8,
      "outputs": []
    },
    {
      "cell_type": "code",
      "metadata": {
        "colab": {
          "base_uri": "https://localhost:8080/"
        },
        "id": "xUpH1E-EYkIN",
        "outputId": "0ddc3b5b-9e3a-4aac-960f-15cad6fdfcdd"
      },
      "source": [
        "print(f'o numero de linhas é:{linhas} e de colunas é:{colunas}')"
      ],
      "execution_count": 9,
      "outputs": [
        {
          "output_type": "stream",
          "text": [
            "o numero de linhas é:1143 e de colunas é:11\n"
          ],
          "name": "stdout"
        }
      ]
    },
    {
      "cell_type": "code",
      "metadata": {
        "colab": {
          "base_uri": "https://localhost:8080/"
        },
        "id": "Rz_PnTaWZjBy",
        "outputId": "06c320ca-658b-4c2b-ddef-e7192f5038d0"
      },
      "source": [
        "df.info()"
      ],
      "execution_count": 10,
      "outputs": [
        {
          "output_type": "stream",
          "text": [
            "<class 'pandas.core.frame.DataFrame'>\n",
            "RangeIndex: 1143 entries, 0 to 1142\n",
            "Data columns (total 11 columns):\n",
            " #   Column               Non-Null Count  Dtype  \n",
            "---  ------               --------------  -----  \n",
            " 0   ad_id                1143 non-null   int64  \n",
            " 1   xyz_campaign_id      1143 non-null   int64  \n",
            " 2   fb_campaign_id       1143 non-null   int64  \n",
            " 3   age                  1143 non-null   object \n",
            " 4   gender               1143 non-null   object \n",
            " 5   interest             1143 non-null   int64  \n",
            " 6   Impressions          1143 non-null   int64  \n",
            " 7   Clicks               1143 non-null   int64  \n",
            " 8   Spent                1143 non-null   float64\n",
            " 9   Total_Conversion     1143 non-null   int64  \n",
            " 10  Approved_Conversion  1143 non-null   int64  \n",
            "dtypes: float64(1), int64(8), object(2)\n",
            "memory usage: 98.4+ KB\n"
          ],
          "name": "stdout"
        }
      ]
    },
    {
      "cell_type": "markdown",
      "metadata": {
        "id": "WxiP4lGKm5hM"
      },
      "source": [
        "Dicionário dos dados\n",
        "\n",
        "1- ad_id - ID único para cada anúncio\n",
        "\n",
        "2- xyzcampaignid - ID associado a cada campanha publicitária da empresa XYZ\n",
        "\n",
        "3- fbcampaignid - ID associado a como o Facebook rastreia cada campanha.\n",
        "\n",
        "4- age - idade da pessoa a quem o anúncio é mostrado.\n",
        "\n",
        "5- gender - sexo da pessoa que deseja que o anúncio seja mostrado\n",
        "\n",
        "6- interest - código que especifica a categoria à qual pertence o interesse da pessoa (os interesses são mencionados no perfil público da pessoa no Facebook)\n",
        "\n",
        "7- Impression - o número de vezes que o anúncio foi mostrado.\n",
        "\n",
        "8- Clicks - número de cliques nesse anúncio.\n",
        "\n",
        "9- Spent - Valor pago pela empresa xyz ao Facebook, para exibir aquele anúncio.\n",
        "\n",
        "10- Total conversion - Número total de pessoas que fizeram perguntas sobre o produto depois de ver o anúncio.\n",
        "\n",
        "11- Approved conversion - Número total de pessoas que compraram o produto depois de ver o anúncio."
      ]
    },
    {
      "cell_type": "code",
      "metadata": {
        "colab": {
          "base_uri": "https://localhost:8080/",
          "height": 309
        },
        "id": "Itu3YlSunPmM",
        "outputId": "8f9c80ee-8e60-4905-f2b9-32e690899e04"
      },
      "source": [
        "df.head()"
      ],
      "execution_count": 11,
      "outputs": [
        {
          "output_type": "execute_result",
          "data": {
            "text/html": [
              "<div>\n",
              "<style scoped>\n",
              "    .dataframe tbody tr th:only-of-type {\n",
              "        vertical-align: middle;\n",
              "    }\n",
              "\n",
              "    .dataframe tbody tr th {\n",
              "        vertical-align: top;\n",
              "    }\n",
              "\n",
              "    .dataframe thead th {\n",
              "        text-align: right;\n",
              "    }\n",
              "</style>\n",
              "<table border=\"1\" class=\"dataframe\">\n",
              "  <thead>\n",
              "    <tr style=\"text-align: right;\">\n",
              "      <th></th>\n",
              "      <th>ad_id</th>\n",
              "      <th>xyz_campaign_id</th>\n",
              "      <th>fb_campaign_id</th>\n",
              "      <th>age</th>\n",
              "      <th>gender</th>\n",
              "      <th>interest</th>\n",
              "      <th>Impressions</th>\n",
              "      <th>Clicks</th>\n",
              "      <th>Spent</th>\n",
              "      <th>Total_Conversion</th>\n",
              "      <th>Approved_Conversion</th>\n",
              "    </tr>\n",
              "  </thead>\n",
              "  <tbody>\n",
              "    <tr>\n",
              "      <th>0</th>\n",
              "      <td>708746</td>\n",
              "      <td>916</td>\n",
              "      <td>103916</td>\n",
              "      <td>30-34</td>\n",
              "      <td>M</td>\n",
              "      <td>15</td>\n",
              "      <td>7350</td>\n",
              "      <td>1</td>\n",
              "      <td>1.43</td>\n",
              "      <td>2</td>\n",
              "      <td>1</td>\n",
              "    </tr>\n",
              "    <tr>\n",
              "      <th>1</th>\n",
              "      <td>708749</td>\n",
              "      <td>916</td>\n",
              "      <td>103917</td>\n",
              "      <td>30-34</td>\n",
              "      <td>M</td>\n",
              "      <td>16</td>\n",
              "      <td>17861</td>\n",
              "      <td>2</td>\n",
              "      <td>1.82</td>\n",
              "      <td>2</td>\n",
              "      <td>0</td>\n",
              "    </tr>\n",
              "    <tr>\n",
              "      <th>2</th>\n",
              "      <td>708771</td>\n",
              "      <td>916</td>\n",
              "      <td>103920</td>\n",
              "      <td>30-34</td>\n",
              "      <td>M</td>\n",
              "      <td>20</td>\n",
              "      <td>693</td>\n",
              "      <td>0</td>\n",
              "      <td>0.00</td>\n",
              "      <td>1</td>\n",
              "      <td>0</td>\n",
              "    </tr>\n",
              "    <tr>\n",
              "      <th>3</th>\n",
              "      <td>708815</td>\n",
              "      <td>916</td>\n",
              "      <td>103928</td>\n",
              "      <td>30-34</td>\n",
              "      <td>M</td>\n",
              "      <td>28</td>\n",
              "      <td>4259</td>\n",
              "      <td>1</td>\n",
              "      <td>1.25</td>\n",
              "      <td>1</td>\n",
              "      <td>0</td>\n",
              "    </tr>\n",
              "    <tr>\n",
              "      <th>4</th>\n",
              "      <td>708818</td>\n",
              "      <td>916</td>\n",
              "      <td>103928</td>\n",
              "      <td>30-34</td>\n",
              "      <td>M</td>\n",
              "      <td>28</td>\n",
              "      <td>4133</td>\n",
              "      <td>1</td>\n",
              "      <td>1.29</td>\n",
              "      <td>1</td>\n",
              "      <td>1</td>\n",
              "    </tr>\n",
              "  </tbody>\n",
              "</table>\n",
              "</div>"
            ],
            "text/plain": [
              "    ad_id  xyz_campaign_id  ...  Total_Conversion Approved_Conversion\n",
              "0  708746              916  ...                 2                   1\n",
              "1  708749              916  ...                 2                   0\n",
              "2  708771              916  ...                 1                   0\n",
              "3  708815              916  ...                 1                   0\n",
              "4  708818              916  ...                 1                   1\n",
              "\n",
              "[5 rows x 11 columns]"
            ]
          },
          "metadata": {
            "tags": []
          },
          "execution_count": 11
        }
      ]
    },
    {
      "cell_type": "code",
      "metadata": {
        "id": "54Gd3a7MnoMq"
      },
      "source": [
        "df.rename(columns={'ad_id':'id_anuncio', \"xyz_campaign_id\": \"id_campanha\", \"fb_campaign_id\": 'id_fb_campanha',\n",
        "\"age\":'idade', 'gender':'genero', 'interest':'interesse', 'Impressions':'numero_exibicoes', 'Clicks': 'cliques_no_anuncio',\n",
        " 'Spent': 'valor_gasto_anuncio', 'Total_Conversion': 'conversao', 'Approved_Conversion': 'compras' }, inplace=True)"
      ],
      "execution_count": 12,
      "outputs": []
    },
    {
      "cell_type": "code",
      "metadata": {
        "colab": {
          "base_uri": "https://localhost:8080/",
          "height": 224
        },
        "id": "xtC6nsHWpqyO",
        "outputId": "e7b055d0-f371-4f77-97f4-8face115c372"
      },
      "source": [
        "df.head()"
      ],
      "execution_count": 13,
      "outputs": [
        {
          "output_type": "execute_result",
          "data": {
            "text/html": [
              "<div>\n",
              "<style scoped>\n",
              "    .dataframe tbody tr th:only-of-type {\n",
              "        vertical-align: middle;\n",
              "    }\n",
              "\n",
              "    .dataframe tbody tr th {\n",
              "        vertical-align: top;\n",
              "    }\n",
              "\n",
              "    .dataframe thead th {\n",
              "        text-align: right;\n",
              "    }\n",
              "</style>\n",
              "<table border=\"1\" class=\"dataframe\">\n",
              "  <thead>\n",
              "    <tr style=\"text-align: right;\">\n",
              "      <th></th>\n",
              "      <th>id_anuncio</th>\n",
              "      <th>id_campanha</th>\n",
              "      <th>id_fb_campanha</th>\n",
              "      <th>idade</th>\n",
              "      <th>genero</th>\n",
              "      <th>interesse</th>\n",
              "      <th>numero_exibicoes</th>\n",
              "      <th>cliques_no_anuncio</th>\n",
              "      <th>valor_gasto_anuncio</th>\n",
              "      <th>conversao</th>\n",
              "      <th>compras</th>\n",
              "    </tr>\n",
              "  </thead>\n",
              "  <tbody>\n",
              "    <tr>\n",
              "      <th>0</th>\n",
              "      <td>708746</td>\n",
              "      <td>916</td>\n",
              "      <td>103916</td>\n",
              "      <td>30-34</td>\n",
              "      <td>M</td>\n",
              "      <td>15</td>\n",
              "      <td>7350</td>\n",
              "      <td>1</td>\n",
              "      <td>1.43</td>\n",
              "      <td>2</td>\n",
              "      <td>1</td>\n",
              "    </tr>\n",
              "    <tr>\n",
              "      <th>1</th>\n",
              "      <td>708749</td>\n",
              "      <td>916</td>\n",
              "      <td>103917</td>\n",
              "      <td>30-34</td>\n",
              "      <td>M</td>\n",
              "      <td>16</td>\n",
              "      <td>17861</td>\n",
              "      <td>2</td>\n",
              "      <td>1.82</td>\n",
              "      <td>2</td>\n",
              "      <td>0</td>\n",
              "    </tr>\n",
              "    <tr>\n",
              "      <th>2</th>\n",
              "      <td>708771</td>\n",
              "      <td>916</td>\n",
              "      <td>103920</td>\n",
              "      <td>30-34</td>\n",
              "      <td>M</td>\n",
              "      <td>20</td>\n",
              "      <td>693</td>\n",
              "      <td>0</td>\n",
              "      <td>0.00</td>\n",
              "      <td>1</td>\n",
              "      <td>0</td>\n",
              "    </tr>\n",
              "    <tr>\n",
              "      <th>3</th>\n",
              "      <td>708815</td>\n",
              "      <td>916</td>\n",
              "      <td>103928</td>\n",
              "      <td>30-34</td>\n",
              "      <td>M</td>\n",
              "      <td>28</td>\n",
              "      <td>4259</td>\n",
              "      <td>1</td>\n",
              "      <td>1.25</td>\n",
              "      <td>1</td>\n",
              "      <td>0</td>\n",
              "    </tr>\n",
              "    <tr>\n",
              "      <th>4</th>\n",
              "      <td>708818</td>\n",
              "      <td>916</td>\n",
              "      <td>103928</td>\n",
              "      <td>30-34</td>\n",
              "      <td>M</td>\n",
              "      <td>28</td>\n",
              "      <td>4133</td>\n",
              "      <td>1</td>\n",
              "      <td>1.29</td>\n",
              "      <td>1</td>\n",
              "      <td>1</td>\n",
              "    </tr>\n",
              "  </tbody>\n",
              "</table>\n",
              "</div>"
            ],
            "text/plain": [
              "   id_anuncio  id_campanha  ...  conversao compras\n",
              "0      708746          916  ...          2       1\n",
              "1      708749          916  ...          2       0\n",
              "2      708771          916  ...          1       0\n",
              "3      708815          916  ...          1       0\n",
              "4      708818          916  ...          1       1\n",
              "\n",
              "[5 rows x 11 columns]"
            ]
          },
          "metadata": {
            "tags": []
          },
          "execution_count": 13
        }
      ]
    },
    {
      "cell_type": "markdown",
      "metadata": {
        "id": "vyijhAehryj1"
      },
      "source": [
        "INFORMAÇÕES ESTATISTICAS\n"
      ]
    },
    {
      "cell_type": "code",
      "metadata": {
        "colab": {
          "base_uri": "https://localhost:8080/",
          "height": 297
        },
        "id": "xDQeDmWVr3zK",
        "outputId": "3ac96f2a-3825-4029-a167-1e0505517ea9"
      },
      "source": [
        "df.describe()"
      ],
      "execution_count": 14,
      "outputs": [
        {
          "output_type": "execute_result",
          "data": {
            "text/html": [
              "<div>\n",
              "<style scoped>\n",
              "    .dataframe tbody tr th:only-of-type {\n",
              "        vertical-align: middle;\n",
              "    }\n",
              "\n",
              "    .dataframe tbody tr th {\n",
              "        vertical-align: top;\n",
              "    }\n",
              "\n",
              "    .dataframe thead th {\n",
              "        text-align: right;\n",
              "    }\n",
              "</style>\n",
              "<table border=\"1\" class=\"dataframe\">\n",
              "  <thead>\n",
              "    <tr style=\"text-align: right;\">\n",
              "      <th></th>\n",
              "      <th>id_anuncio</th>\n",
              "      <th>id_campanha</th>\n",
              "      <th>id_fb_campanha</th>\n",
              "      <th>interesse</th>\n",
              "      <th>numero_exibicoes</th>\n",
              "      <th>cliques_no_anuncio</th>\n",
              "      <th>valor_gasto_anuncio</th>\n",
              "      <th>conversao</th>\n",
              "      <th>compras</th>\n",
              "    </tr>\n",
              "  </thead>\n",
              "  <tbody>\n",
              "    <tr>\n",
              "      <th>count</th>\n",
              "      <td>1.143000e+03</td>\n",
              "      <td>1143.000000</td>\n",
              "      <td>1143.000000</td>\n",
              "      <td>1143.000000</td>\n",
              "      <td>1.143000e+03</td>\n",
              "      <td>1143.000000</td>\n",
              "      <td>1143.000000</td>\n",
              "      <td>1143.000000</td>\n",
              "      <td>1143.000000</td>\n",
              "    </tr>\n",
              "    <tr>\n",
              "      <th>mean</th>\n",
              "      <td>9.872611e+05</td>\n",
              "      <td>1067.382327</td>\n",
              "      <td>133783.989501</td>\n",
              "      <td>32.766404</td>\n",
              "      <td>1.867321e+05</td>\n",
              "      <td>33.390201</td>\n",
              "      <td>51.360656</td>\n",
              "      <td>2.855643</td>\n",
              "      <td>0.944007</td>\n",
              "    </tr>\n",
              "    <tr>\n",
              "      <th>std</th>\n",
              "      <td>1.939928e+05</td>\n",
              "      <td>121.629393</td>\n",
              "      <td>20500.308622</td>\n",
              "      <td>26.952131</td>\n",
              "      <td>3.127622e+05</td>\n",
              "      <td>56.892438</td>\n",
              "      <td>86.908418</td>\n",
              "      <td>4.483593</td>\n",
              "      <td>1.737708</td>\n",
              "    </tr>\n",
              "    <tr>\n",
              "      <th>min</th>\n",
              "      <td>7.087460e+05</td>\n",
              "      <td>916.000000</td>\n",
              "      <td>103916.000000</td>\n",
              "      <td>2.000000</td>\n",
              "      <td>8.700000e+01</td>\n",
              "      <td>0.000000</td>\n",
              "      <td>0.000000</td>\n",
              "      <td>0.000000</td>\n",
              "      <td>0.000000</td>\n",
              "    </tr>\n",
              "    <tr>\n",
              "      <th>25%</th>\n",
              "      <td>7.776325e+05</td>\n",
              "      <td>936.000000</td>\n",
              "      <td>115716.000000</td>\n",
              "      <td>16.000000</td>\n",
              "      <td>6.503500e+03</td>\n",
              "      <td>1.000000</td>\n",
              "      <td>1.480000</td>\n",
              "      <td>1.000000</td>\n",
              "      <td>0.000000</td>\n",
              "    </tr>\n",
              "    <tr>\n",
              "      <th>50%</th>\n",
              "      <td>1.121185e+06</td>\n",
              "      <td>1178.000000</td>\n",
              "      <td>144549.000000</td>\n",
              "      <td>25.000000</td>\n",
              "      <td>5.150900e+04</td>\n",
              "      <td>8.000000</td>\n",
              "      <td>12.370000</td>\n",
              "      <td>1.000000</td>\n",
              "      <td>1.000000</td>\n",
              "    </tr>\n",
              "    <tr>\n",
              "      <th>75%</th>\n",
              "      <td>1.121804e+06</td>\n",
              "      <td>1178.000000</td>\n",
              "      <td>144657.500000</td>\n",
              "      <td>31.000000</td>\n",
              "      <td>2.217690e+05</td>\n",
              "      <td>37.500000</td>\n",
              "      <td>60.025000</td>\n",
              "      <td>3.000000</td>\n",
              "      <td>1.000000</td>\n",
              "    </tr>\n",
              "    <tr>\n",
              "      <th>max</th>\n",
              "      <td>1.314415e+06</td>\n",
              "      <td>1178.000000</td>\n",
              "      <td>179982.000000</td>\n",
              "      <td>114.000000</td>\n",
              "      <td>3.052003e+06</td>\n",
              "      <td>421.000000</td>\n",
              "      <td>639.949998</td>\n",
              "      <td>60.000000</td>\n",
              "      <td>21.000000</td>\n",
              "    </tr>\n",
              "  </tbody>\n",
              "</table>\n",
              "</div>"
            ],
            "text/plain": [
              "         id_anuncio  id_campanha  ...    conversao      compras\n",
              "count  1.143000e+03  1143.000000  ...  1143.000000  1143.000000\n",
              "mean   9.872611e+05  1067.382327  ...     2.855643     0.944007\n",
              "std    1.939928e+05   121.629393  ...     4.483593     1.737708\n",
              "min    7.087460e+05   916.000000  ...     0.000000     0.000000\n",
              "25%    7.776325e+05   936.000000  ...     1.000000     0.000000\n",
              "50%    1.121185e+06  1178.000000  ...     1.000000     1.000000\n",
              "75%    1.121804e+06  1178.000000  ...     3.000000     1.000000\n",
              "max    1.314415e+06  1178.000000  ...    60.000000    21.000000\n",
              "\n",
              "[8 rows x 9 columns]"
            ]
          },
          "metadata": {
            "tags": []
          },
          "execution_count": 14
        }
      ]
    },
    {
      "cell_type": "code",
      "metadata": {
        "colab": {
          "base_uri": "https://localhost:8080/",
          "height": 390
        },
        "id": "00Jg6ctNsI5_",
        "outputId": "17548988-09cc-48b0-e9bb-d5c33f6c2ebc"
      },
      "source": [
        "df.describe(include=\"all\")"
      ],
      "execution_count": 15,
      "outputs": [
        {
          "output_type": "execute_result",
          "data": {
            "text/html": [
              "<div>\n",
              "<style scoped>\n",
              "    .dataframe tbody tr th:only-of-type {\n",
              "        vertical-align: middle;\n",
              "    }\n",
              "\n",
              "    .dataframe tbody tr th {\n",
              "        vertical-align: top;\n",
              "    }\n",
              "\n",
              "    .dataframe thead th {\n",
              "        text-align: right;\n",
              "    }\n",
              "</style>\n",
              "<table border=\"1\" class=\"dataframe\">\n",
              "  <thead>\n",
              "    <tr style=\"text-align: right;\">\n",
              "      <th></th>\n",
              "      <th>id_anuncio</th>\n",
              "      <th>id_campanha</th>\n",
              "      <th>id_fb_campanha</th>\n",
              "      <th>idade</th>\n",
              "      <th>genero</th>\n",
              "      <th>interesse</th>\n",
              "      <th>numero_exibicoes</th>\n",
              "      <th>cliques_no_anuncio</th>\n",
              "      <th>valor_gasto_anuncio</th>\n",
              "      <th>conversao</th>\n",
              "      <th>compras</th>\n",
              "    </tr>\n",
              "  </thead>\n",
              "  <tbody>\n",
              "    <tr>\n",
              "      <th>count</th>\n",
              "      <td>1.143000e+03</td>\n",
              "      <td>1143.000000</td>\n",
              "      <td>1143.000000</td>\n",
              "      <td>1143</td>\n",
              "      <td>1143</td>\n",
              "      <td>1143.000000</td>\n",
              "      <td>1.143000e+03</td>\n",
              "      <td>1143.000000</td>\n",
              "      <td>1143.000000</td>\n",
              "      <td>1143.000000</td>\n",
              "      <td>1143.000000</td>\n",
              "    </tr>\n",
              "    <tr>\n",
              "      <th>unique</th>\n",
              "      <td>NaN</td>\n",
              "      <td>NaN</td>\n",
              "      <td>NaN</td>\n",
              "      <td>4</td>\n",
              "      <td>2</td>\n",
              "      <td>NaN</td>\n",
              "      <td>NaN</td>\n",
              "      <td>NaN</td>\n",
              "      <td>NaN</td>\n",
              "      <td>NaN</td>\n",
              "      <td>NaN</td>\n",
              "    </tr>\n",
              "    <tr>\n",
              "      <th>top</th>\n",
              "      <td>NaN</td>\n",
              "      <td>NaN</td>\n",
              "      <td>NaN</td>\n",
              "      <td>30-34</td>\n",
              "      <td>M</td>\n",
              "      <td>NaN</td>\n",
              "      <td>NaN</td>\n",
              "      <td>NaN</td>\n",
              "      <td>NaN</td>\n",
              "      <td>NaN</td>\n",
              "      <td>NaN</td>\n",
              "    </tr>\n",
              "    <tr>\n",
              "      <th>freq</th>\n",
              "      <td>NaN</td>\n",
              "      <td>NaN</td>\n",
              "      <td>NaN</td>\n",
              "      <td>426</td>\n",
              "      <td>592</td>\n",
              "      <td>NaN</td>\n",
              "      <td>NaN</td>\n",
              "      <td>NaN</td>\n",
              "      <td>NaN</td>\n",
              "      <td>NaN</td>\n",
              "      <td>NaN</td>\n",
              "    </tr>\n",
              "    <tr>\n",
              "      <th>mean</th>\n",
              "      <td>9.872611e+05</td>\n",
              "      <td>1067.382327</td>\n",
              "      <td>133783.989501</td>\n",
              "      <td>NaN</td>\n",
              "      <td>NaN</td>\n",
              "      <td>32.766404</td>\n",
              "      <td>1.867321e+05</td>\n",
              "      <td>33.390201</td>\n",
              "      <td>51.360656</td>\n",
              "      <td>2.855643</td>\n",
              "      <td>0.944007</td>\n",
              "    </tr>\n",
              "    <tr>\n",
              "      <th>std</th>\n",
              "      <td>1.939928e+05</td>\n",
              "      <td>121.629393</td>\n",
              "      <td>20500.308622</td>\n",
              "      <td>NaN</td>\n",
              "      <td>NaN</td>\n",
              "      <td>26.952131</td>\n",
              "      <td>3.127622e+05</td>\n",
              "      <td>56.892438</td>\n",
              "      <td>86.908418</td>\n",
              "      <td>4.483593</td>\n",
              "      <td>1.737708</td>\n",
              "    </tr>\n",
              "    <tr>\n",
              "      <th>min</th>\n",
              "      <td>7.087460e+05</td>\n",
              "      <td>916.000000</td>\n",
              "      <td>103916.000000</td>\n",
              "      <td>NaN</td>\n",
              "      <td>NaN</td>\n",
              "      <td>2.000000</td>\n",
              "      <td>8.700000e+01</td>\n",
              "      <td>0.000000</td>\n",
              "      <td>0.000000</td>\n",
              "      <td>0.000000</td>\n",
              "      <td>0.000000</td>\n",
              "    </tr>\n",
              "    <tr>\n",
              "      <th>25%</th>\n",
              "      <td>7.776325e+05</td>\n",
              "      <td>936.000000</td>\n",
              "      <td>115716.000000</td>\n",
              "      <td>NaN</td>\n",
              "      <td>NaN</td>\n",
              "      <td>16.000000</td>\n",
              "      <td>6.503500e+03</td>\n",
              "      <td>1.000000</td>\n",
              "      <td>1.480000</td>\n",
              "      <td>1.000000</td>\n",
              "      <td>0.000000</td>\n",
              "    </tr>\n",
              "    <tr>\n",
              "      <th>50%</th>\n",
              "      <td>1.121185e+06</td>\n",
              "      <td>1178.000000</td>\n",
              "      <td>144549.000000</td>\n",
              "      <td>NaN</td>\n",
              "      <td>NaN</td>\n",
              "      <td>25.000000</td>\n",
              "      <td>5.150900e+04</td>\n",
              "      <td>8.000000</td>\n",
              "      <td>12.370000</td>\n",
              "      <td>1.000000</td>\n",
              "      <td>1.000000</td>\n",
              "    </tr>\n",
              "    <tr>\n",
              "      <th>75%</th>\n",
              "      <td>1.121804e+06</td>\n",
              "      <td>1178.000000</td>\n",
              "      <td>144657.500000</td>\n",
              "      <td>NaN</td>\n",
              "      <td>NaN</td>\n",
              "      <td>31.000000</td>\n",
              "      <td>2.217690e+05</td>\n",
              "      <td>37.500000</td>\n",
              "      <td>60.025000</td>\n",
              "      <td>3.000000</td>\n",
              "      <td>1.000000</td>\n",
              "    </tr>\n",
              "    <tr>\n",
              "      <th>max</th>\n",
              "      <td>1.314415e+06</td>\n",
              "      <td>1178.000000</td>\n",
              "      <td>179982.000000</td>\n",
              "      <td>NaN</td>\n",
              "      <td>NaN</td>\n",
              "      <td>114.000000</td>\n",
              "      <td>3.052003e+06</td>\n",
              "      <td>421.000000</td>\n",
              "      <td>639.949998</td>\n",
              "      <td>60.000000</td>\n",
              "      <td>21.000000</td>\n",
              "    </tr>\n",
              "  </tbody>\n",
              "</table>\n",
              "</div>"
            ],
            "text/plain": [
              "          id_anuncio  id_campanha  ...    conversao      compras\n",
              "count   1.143000e+03  1143.000000  ...  1143.000000  1143.000000\n",
              "unique           NaN          NaN  ...          NaN          NaN\n",
              "top              NaN          NaN  ...          NaN          NaN\n",
              "freq             NaN          NaN  ...          NaN          NaN\n",
              "mean    9.872611e+05  1067.382327  ...     2.855643     0.944007\n",
              "std     1.939928e+05   121.629393  ...     4.483593     1.737708\n",
              "min     7.087460e+05   916.000000  ...     0.000000     0.000000\n",
              "25%     7.776325e+05   936.000000  ...     1.000000     0.000000\n",
              "50%     1.121185e+06  1178.000000  ...     1.000000     1.000000\n",
              "75%     1.121804e+06  1178.000000  ...     3.000000     1.000000\n",
              "max     1.314415e+06  1178.000000  ...    60.000000    21.000000\n",
              "\n",
              "[11 rows x 11 columns]"
            ]
          },
          "metadata": {
            "tags": []
          },
          "execution_count": 15
        }
      ]
    },
    {
      "cell_type": "markdown",
      "metadata": {
        "id": "nnM3z2pLs5nb"
      },
      "source": [
        "DADOS FALTANTES"
      ]
    },
    {
      "cell_type": "code",
      "metadata": {
        "colab": {
          "base_uri": "https://localhost:8080/"
        },
        "id": "mzjBGqJvs8jH",
        "outputId": "33f4f0a3-cc2f-49eb-c6d7-ffb0166f60cd"
      },
      "source": [
        "df.isnull().sum()  # detecta se tem valores faltantes"
      ],
      "execution_count": 16,
      "outputs": [
        {
          "output_type": "execute_result",
          "data": {
            "text/plain": [
              "id_anuncio             0\n",
              "id_campanha            0\n",
              "id_fb_campanha         0\n",
              "idade                  0\n",
              "genero                 0\n",
              "interesse              0\n",
              "numero_exibicoes       0\n",
              "cliques_no_anuncio     0\n",
              "valor_gasto_anuncio    0\n",
              "conversao              0\n",
              "compras                0\n",
              "dtype: int64"
            ]
          },
          "metadata": {
            "tags": []
          },
          "execution_count": 16
        }
      ]
    },
    {
      "cell_type": "code",
      "metadata": {
        "colab": {
          "base_uri": "https://localhost:8080/",
          "height": 530
        },
        "id": "IcxVq73jtUSB",
        "outputId": "7cd95bda-638d-485e-a1bb-a2054b98c055"
      },
      "source": [
        "import missingno\n",
        "missingno.matrix(df, figsize=(30,10))"
      ],
      "execution_count": 17,
      "outputs": [
        {
          "output_type": "execute_result",
          "data": {
            "text/plain": [
              "<matplotlib.axes._subplots.AxesSubplot at 0x7f3ec9ff4ed0>"
            ]
          },
          "metadata": {
            "tags": []
          },
          "execution_count": 17
        },
        {
          "output_type": "display_data",
          "data": {
            "image/png": "[encoded data removed]",
            "text/plain": [
              "<Figure size 2160x720 with 2 Axes>"
            ]
          },
          "metadata": {
            "tags": [],
            "needs_background": "light"
          }
        }
      ]
    },
    {
      "cell_type": "markdown",
      "metadata": {
        "id": "OyjAx0QBuRDI"
      },
      "source": [
        "OUTILIERS"
      ]
    },
    {
      "cell_type": "code",
      "metadata": {
        "colab": {
          "base_uri": "https://localhost:8080/",
          "height": 443
        },
        "id": "qtYsjGiuuTtp",
        "outputId": "74edb336-2a2d-4161-e87e-1ef32920afe1"
      },
      "source": [
        "import matplotlib.pyplot as plt\n",
        "\n",
        "plt.figure(figsize=(30,10))\n",
        "df.boxplot()\n",
        "plt.show()"
      ],
      "execution_count": 18,
      "outputs": [
        {
          "output_type": "display_data",
          "data": {
            "image/png": "[encoded data removed]",
            "text/plain": [
              "<Figure size 2160x720 with 1 Axes>"
            ]
          },
          "metadata": {
            "tags": [],
            "needs_background": "light"
          }
        }
      ]
    },
    {
      "cell_type": "markdown",
      "metadata": {
        "id": "DfW7da99vPxA"
      },
      "source": [
        "DUPLICATAS"
      ]
    },
    {
      "cell_type": "code",
      "metadata": {
        "colab": {
          "base_uri": "https://localhost:8080/",
          "height": 49
        },
        "id": "jIu7WHdYvI_D",
        "outputId": "6d94f45c-8f40-45a1-d6d3-72706d1ee0da"
      },
      "source": [
        "df[df.duplicated()]  # verifica se tem duplicatas"
      ],
      "execution_count": 19,
      "outputs": [
        {
          "output_type": "execute_result",
          "data": {
            "text/html": [
              "<div>\n",
              "<style scoped>\n",
              "    .dataframe tbody tr th:only-of-type {\n",
              "        vertical-align: middle;\n",
              "    }\n",
              "\n",
              "    .dataframe tbody tr th {\n",
              "        vertical-align: top;\n",
              "    }\n",
              "\n",
              "    .dataframe thead th {\n",
              "        text-align: right;\n",
              "    }\n",
              "</style>\n",
              "<table border=\"1\" class=\"dataframe\">\n",
              "  <thead>\n",
              "    <tr style=\"text-align: right;\">\n",
              "      <th></th>\n",
              "      <th>id_anuncio</th>\n",
              "      <th>id_campanha</th>\n",
              "      <th>id_fb_campanha</th>\n",
              "      <th>idade</th>\n",
              "      <th>genero</th>\n",
              "      <th>interesse</th>\n",
              "      <th>numero_exibicoes</th>\n",
              "      <th>cliques_no_anuncio</th>\n",
              "      <th>valor_gasto_anuncio</th>\n",
              "      <th>conversao</th>\n",
              "      <th>compras</th>\n",
              "    </tr>\n",
              "  </thead>\n",
              "  <tbody>\n",
              "  </tbody>\n",
              "</table>\n",
              "</div>"
            ],
            "text/plain": [
              "Empty DataFrame\n",
              "Columns: [id_anuncio, id_campanha, id_fb_campanha, idade, genero, interesse, numero_exibicoes, cliques_no_anuncio, valor_gasto_anuncio, conversao, compras]\n",
              "Index: []"
            ]
          },
          "metadata": {
            "tags": []
          },
          "execution_count": 19
        }
      ]
    },
    {
      "cell_type": "markdown",
      "metadata": {
        "id": "JSjyDn4NvzUQ"
      },
      "source": [
        "MATRIZ CORRELAÇÀO"
      ]
    },
    {
      "cell_type": "code",
      "metadata": {
        "colab": {
          "base_uri": "https://localhost:8080/",
          "height": 705
        },
        "id": "JbjRYwrIvY7X",
        "outputId": "362e0fea-63d5-4f69-a18e-7c6db66f68b9"
      },
      "source": [
        "import seaborn as sns  # importando a bibliotaca para p mata de calor\n",
        "\n",
        "plt.figure(figsize=(12,10))\n",
        "corr_matrix = df.corr()  # gerando uma matriz de correlação\n",
        "sns.heatmap(corr_matrix, annot=True, cmap=plt.cm.Reds)"
      ],
      "execution_count": 20,
      "outputs": [
        {
          "output_type": "execute_result",
          "data": {
            "text/plain": [
              "<matplotlib.axes._subplots.AxesSubplot at 0x7f3ec112cd90>"
            ]
          },
          "metadata": {
            "tags": []
          },
          "execution_count": 20
        },
        {
          "output_type": "display_data",
          "data": {
            "image/png": "[encoded data removed]",
            "text/plain": [
              "<Figure size 864x720 with 2 Axes>"
            ]
          },
          "metadata": {
            "tags": [],
            "needs_background": "light"
          }
        }
      ]
    },
    {
      "cell_type": "markdown",
      "metadata": {
        "id": "SAfvZQZwxNoC"
      },
      "source": [
        "AVALIANDO AS FEATURES (colunas)"
      ]
    },
    {
      "cell_type": "code",
      "metadata": {
        "colab": {
          "base_uri": "https://localhost:8080/"
        },
        "id": "kbR1TpF3xMcB",
        "outputId": "47b29bf1-6968-4db5-c091-133cdc5b7a78"
      },
      "source": [
        "df['id_campanha'].unique()"
      ],
      "execution_count": 21,
      "outputs": [
        {
          "output_type": "execute_result",
          "data": {
            "text/plain": [
              "array([ 916,  936, 1178])"
            ]
          },
          "metadata": {
            "tags": []
          },
          "execution_count": 21
        }
      ]
    },
    {
      "cell_type": "code",
      "metadata": {
        "id": "Uk7at4JBx0Z0"
      },
      "source": [
        "df['id_campanha'].replace({916: 'campanha_1', 936: 'campanha_2', 1178: 'campanha_3'}, inplace=True)"
      ],
      "execution_count": 22,
      "outputs": []
    },
    {
      "cell_type": "code",
      "metadata": {
        "colab": {
          "base_uri": "https://localhost:8080/",
          "height": 204
        },
        "id": "nDEs1uxWyVWg",
        "outputId": "d802a615-371e-4d1c-ad4e-9413bb5d09f7"
      },
      "source": [
        "df.head()"
      ],
      "execution_count": 23,
      "outputs": [
        {
          "output_type": "execute_result",
          "data": {
            "text/html": [
              "<div>\n",
              "<style scoped>\n",
              "    .dataframe tbody tr th:only-of-type {\n",
              "        vertical-align: middle;\n",
              "    }\n",
              "\n",
              "    .dataframe tbody tr th {\n",
              "        vertical-align: top;\n",
              "    }\n",
              "\n",
              "    .dataframe thead th {\n",
              "        text-align: right;\n",
              "    }\n",
              "</style>\n",
              "<table border=\"1\" class=\"dataframe\">\n",
              "  <thead>\n",
              "    <tr style=\"text-align: right;\">\n",
              "      <th></th>\n",
              "      <th>id_anuncio</th>\n",
              "      <th>id_campanha</th>\n",
              "      <th>id_fb_campanha</th>\n",
              "      <th>idade</th>\n",
              "      <th>genero</th>\n",
              "      <th>interesse</th>\n",
              "      <th>numero_exibicoes</th>\n",
              "      <th>cliques_no_anuncio</th>\n",
              "      <th>valor_gasto_anuncio</th>\n",
              "      <th>conversao</th>\n",
              "      <th>compras</th>\n",
              "    </tr>\n",
              "  </thead>\n",
              "  <tbody>\n",
              "    <tr>\n",
              "      <th>0</th>\n",
              "      <td>708746</td>\n",
              "      <td>campanha_1</td>\n",
              "      <td>103916</td>\n",
              "      <td>30-34</td>\n",
              "      <td>M</td>\n",
              "      <td>15</td>\n",
              "      <td>7350</td>\n",
              "      <td>1</td>\n",
              "      <td>1.43</td>\n",
              "      <td>2</td>\n",
              "      <td>1</td>\n",
              "    </tr>\n",
              "    <tr>\n",
              "      <th>1</th>\n",
              "      <td>708749</td>\n",
              "      <td>campanha_1</td>\n",
              "      <td>103917</td>\n",
              "      <td>30-34</td>\n",
              "      <td>M</td>\n",
              "      <td>16</td>\n",
              "      <td>17861</td>\n",
              "      <td>2</td>\n",
              "      <td>1.82</td>\n",
              "      <td>2</td>\n",
              "      <td>0</td>\n",
              "    </tr>\n",
              "    <tr>\n",
              "      <th>2</th>\n",
              "      <td>708771</td>\n",
              "      <td>campanha_1</td>\n",
              "      <td>103920</td>\n",
              "      <td>30-34</td>\n",
              "      <td>M</td>\n",
              "      <td>20</td>\n",
              "      <td>693</td>\n",
              "      <td>0</td>\n",
              "      <td>0.00</td>\n",
              "      <td>1</td>\n",
              "      <td>0</td>\n",
              "    </tr>\n",
              "    <tr>\n",
              "      <th>3</th>\n",
              "      <td>708815</td>\n",
              "      <td>campanha_1</td>\n",
              "      <td>103928</td>\n",
              "      <td>30-34</td>\n",
              "      <td>M</td>\n",
              "      <td>28</td>\n",
              "      <td>4259</td>\n",
              "      <td>1</td>\n",
              "      <td>1.25</td>\n",
              "      <td>1</td>\n",
              "      <td>0</td>\n",
              "    </tr>\n",
              "    <tr>\n",
              "      <th>4</th>\n",
              "      <td>708818</td>\n",
              "      <td>campanha_1</td>\n",
              "      <td>103928</td>\n",
              "      <td>30-34</td>\n",
              "      <td>M</td>\n",
              "      <td>28</td>\n",
              "      <td>4133</td>\n",
              "      <td>1</td>\n",
              "      <td>1.29</td>\n",
              "      <td>1</td>\n",
              "      <td>1</td>\n",
              "    </tr>\n",
              "  </tbody>\n",
              "</table>\n",
              "</div>"
            ],
            "text/plain": [
              "   id_anuncio id_campanha  ...  conversao compras\n",
              "0      708746  campanha_1  ...          2       1\n",
              "1      708749  campanha_1  ...          2       0\n",
              "2      708771  campanha_1  ...          1       0\n",
              "3      708815  campanha_1  ...          1       0\n",
              "4      708818  campanha_1  ...          1       1\n",
              "\n",
              "[5 rows x 11 columns]"
            ]
          },
          "metadata": {
            "tags": []
          },
          "execution_count": 23
        }
      ]
    },
    {
      "cell_type": "code",
      "metadata": {
        "colab": {
          "base_uri": "https://localhost:8080/",
          "height": 607
        },
        "id": "SzZszi5jyav1",
        "outputId": "e8c5dcbc-c7f5-44c1-c807-61b6a528124a"
      },
      "source": [
        "plt.figure(figsize=(12,10))\n",
        "sns.countplot(x='id_campanha', data=df)\n",
        "plt.show()"
      ],
      "execution_count": 24,
      "outputs": [
        {
          "output_type": "display_data",
          "data": {
            "image/png": "[encoded data removed]",
            "text/plain": [
              "<Figure size 864x720 with 1 Axes>"
            ]
          },
          "metadata": {
            "tags": [],
            "needs_background": "light"
          }
        }
      ]
    },
    {
      "cell_type": "markdown",
      "metadata": {
        "id": "Z1O36Ijgy5rC"
      },
      "source": [
        "Campanha 3 teve o maior numero de anuncios"
      ]
    },
    {
      "cell_type": "code",
      "metadata": {
        "colab": {
          "base_uri": "https://localhost:8080/",
          "height": 606
        },
        "id": "B_HUa58my-pP",
        "outputId": "9ba87e79-c0ae-42c5-a099-a68e30a35b29"
      },
      "source": [
        "plt.figure(figsize=(12,10))\n",
        "plt.bar(df['id_campanha'], df[\"compras\"])\n",
        "plt.ylabel(\"Compras\")\n",
        "plt.xlabel(\"Campanha/Compras\")\n",
        "plt.show()"
      ],
      "execution_count": 25,
      "outputs": [
        {
          "output_type": "display_data",
          "data": {
            "image/png": "[encoded data removed]",
            "text/plain": [
              "<Figure size 864x720 with 1 Axes>"
            ]
          },
          "metadata": {
            "tags": [],
            "needs_background": "light"
          }
        }
      ]
    },
    {
      "cell_type": "markdown",
      "metadata": {
        "id": "-XfLOB3DzjFR"
      },
      "source": [
        "IDADE - Idade da pessoa a quem o anuncio é mostrado"
      ]
    },
    {
      "cell_type": "code",
      "metadata": {
        "colab": {
          "base_uri": "https://localhost:8080/"
        },
        "id": "4GqCcXLIzgQ5",
        "outputId": "2603525f-5945-4bb6-cbe2-9bf1cf10295d"
      },
      "source": [
        "df['idade'].nunique()"
      ],
      "execution_count": 26,
      "outputs": [
        {
          "output_type": "execute_result",
          "data": {
            "text/plain": [
              "4"
            ]
          },
          "metadata": {
            "tags": []
          },
          "execution_count": 26
        }
      ]
    },
    {
      "cell_type": "code",
      "metadata": {
        "colab": {
          "base_uri": "https://localhost:8080/"
        },
        "id": "1AMSO21Wz3ik",
        "outputId": "f43498f8-a78a-4f68-ec5f-b2005f7b8262"
      },
      "source": [
        "df['idade'].unique()"
      ],
      "execution_count": 27,
      "outputs": [
        {
          "output_type": "execute_result",
          "data": {
            "text/plain": [
              "array(['30-34', '35-39', '40-44', '45-49'], dtype=object)"
            ]
          },
          "metadata": {
            "tags": []
          },
          "execution_count": 27
        }
      ]
    },
    {
      "cell_type": "code",
      "metadata": {
        "colab": {
          "base_uri": "https://localhost:8080/",
          "height": 606
        },
        "id": "tBH366je0I6Y",
        "outputId": "2d6bd95d-ddaa-47c7-d6f0-a8692dd33566"
      },
      "source": [
        "plt.figure(figsize=(12,10))\n",
        "sns.countplot(x='idade', data= df)\n",
        "plt.show()"
      ],
      "execution_count": 28,
      "outputs": [
        {
          "output_type": "display_data",
          "data": {
            "image/png": "[encoded data removed]",
            "text/plain": [
              "<Figure size 864x720 with 1 Axes>"
            ]
          },
          "metadata": {
            "tags": [],
            "needs_background": "light"
          }
        }
      ]
    },
    {
      "cell_type": "code",
      "metadata": {
        "colab": {
          "base_uri": "https://localhost:8080/",
          "height": 607
        },
        "id": "rLOQbndE0kof",
        "outputId": "5f1816ec-68dc-4240-fb53-da487b9c8016"
      },
      "source": [
        "plt.figure(figsize=(12,10))\n",
        "tips = sns.load_dataset(\"tips\")\n",
        "sns.barplot(x=df[\"id_campanha\"], y=df[\"compras\"], hue=df[\"idade\"], data=tips)\n",
        "plt.show()"
      ],
      "execution_count": 29,
      "outputs": [
        {
          "output_type": "display_data",
          "data": {
            "image/png": "[encoded data removed]",
            "text/plain": [
              "<Figure size 864x720 with 1 Axes>"
            ]
          },
          "metadata": {
            "tags": [],
            "needs_background": "light"
          }
        }
      ]
    },
    {
      "cell_type": "markdown",
      "metadata": {
        "id": "aA4VpaQ51JSA"
      },
      "source": [
        "Na campanha 3 e 2 o grupo que de 30-34 anos mostra mais interesse\n",
        "\n",
        "Na campanha 1 é o grupo de 40-44 anos que mostra mais interesse"
      ]
    },
    {
      "cell_type": "markdown",
      "metadata": {
        "id": "KHsnYTm01iJ-"
      },
      "source": [
        "GENERO - sexo das pessoa que deseja que o anuncio seja mostrado"
      ]
    },
    {
      "cell_type": "code",
      "metadata": {
        "colab": {
          "base_uri": "https://localhost:8080/",
          "height": 606
        },
        "id": "sxzI2xOo1dRd",
        "outputId": "4b3306ad-ff0e-4f55-cc35-ed747e41fa70"
      },
      "source": [
        "plt.figure(figsize=(12,10))\n",
        "sns.countplot(x ='genero', data = df) \n",
        "plt.show()"
      ],
      "execution_count": 30,
      "outputs": [
        {
          "output_type": "display_data",
          "data": {
            "image/png": "[encoded data removed]",
            "text/plain": [
              "<Figure size 864x720 with 1 Axes>"
            ]
          },
          "metadata": {
            "tags": [],
            "needs_background": "light"
          }
        }
      ]
    },
    {
      "cell_type": "code",
      "metadata": {
        "id": "7DgMz4Wl1zhv",
        "colab": {
          "base_uri": "https://localhost:8080/",
          "height": 607
        },
        "outputId": "ef7e7d2e-dd2b-49af-975d-65c0e22f9a6b"
      },
      "source": [
        "plt.figure(figsize=(12,10))\n",
        "tips = sns.load_dataset(\"tips\")\n",
        "sns.barplot(x=df[\"id_campanha\"], y=df[\"compras\"], hue=df[\"genero\"], data=tips)\n",
        "plt.show()"
      ],
      "execution_count": 31,
      "outputs": [
        {
          "output_type": "display_data",
          "data": {
            "image/png": "[encoded data removed]",
            "text/plain": [
              "<Figure size 864x720 with 1 Axes>"
            ]
          },
          "metadata": {
            "tags": [],
            "needs_background": "light"
          }
        }
      ]
    },
    {
      "cell_type": "markdown",
      "metadata": {
        "id": "8e7RDhkPihp-"
      },
      "source": [
        "Ambos sexo mostram interesse semelhante nas 3 campanhas\n"
      ]
    },
    {
      "cell_type": "markdown",
      "metadata": {
        "id": "bjwaj6MDirhz"
      },
      "source": [
        "interesse - código que especifica a categoria à qual pertence o interesse da pessoa\n",
        "\n",
        "(os interesses são mencionados no perfil público da pessoa no Facebook)"
      ]
    },
    {
      "cell_type": "code",
      "metadata": {
        "colab": {
          "base_uri": "https://localhost:8080/",
          "height": 388
        },
        "id": "UsvauCZ_inRW",
        "outputId": "c06f6274-0c47-4f78-825b-647b5a765744"
      },
      "source": [
        "plt.figure(figsize=(15,6))\n",
        "sns.countplot(x ='interesse', data = df) \n",
        "plt.show()"
      ],
      "execution_count": 32,
      "outputs": [
        {
          "output_type": "display_data",
          "data": {
            "image/png": "[encoded data removed]",
            "text/plain": [
              "<Figure size 1080x432 with 1 Axes>"
            ]
          },
          "metadata": {
            "tags": [],
            "needs_background": "light"
          }
        }
      ]
    },
    {
      "cell_type": "code",
      "metadata": {
        "colab": {
          "base_uri": "https://localhost:8080/",
          "height": 622
        },
        "id": "JfrPwCBbjMre",
        "outputId": "8c642bce-836a-471f-b83b-622032e51b2f"
      },
      "source": [
        "plt.figure(figsize=(12,10))\n",
        "plt.scatter(df[\"interesse\"], df[\"compras\"])\n",
        "plt.title(\"Interesse/Compras\")\n",
        "plt.xlabel(\"Código de Interesse\")\n",
        "plt.ylabel(\"Compra\")\n",
        "plt.show()"
      ],
      "execution_count": 33,
      "outputs": [
        {
          "output_type": "display_data",
          "data": {
            "image/png": "[encoded data removed]",
            "text/plain": [
              "<Figure size 864x720 with 1 Axes>"
            ]
          },
          "metadata": {
            "tags": [],
            "needs_background": "light"
          }
        }
      ]
    },
    {
      "cell_type": "markdown",
      "metadata": {
        "id": "3PvWGkPVjTjO"
      },
      "source": [
        "Observamos que após o código 100 há um aumento de usuários que compraram o produto.\n",
        "\n",
        "Vamos abrir isso um pouco mais?"
      ]
    },
    {
      "cell_type": "code",
      "metadata": {
        "colab": {
          "base_uri": "https://localhost:8080/",
          "height": 225
        },
        "id": "jAZqc5P2jVLz",
        "outputId": "4b6cbc60-faf2-43e6-ae04-4c8a011b46b8"
      },
      "source": [
        "#Por gênero\n",
        "genero = sns.FacetGrid(df, col=\"genero\")\n",
        "genero.map(plt.scatter, \"interesse\", \"compras\", alpha=.4)\n",
        "genero.add_legend();"
      ],
      "execution_count": 34,
      "outputs": [
        {
          "output_type": "display_data",
          "data": {
            "image/png": "[encoded data removed]",
            "text/plain": [
              "<Figure size 440x216 with 2 Axes>"
            ]
          },
          "metadata": {
            "tags": [],
            "needs_background": "light"
          }
        }
      ]
    },
    {
      "cell_type": "code",
      "metadata": {
        "colab": {
          "base_uri": "https://localhost:8080/",
          "height": 225
        },
        "id": "ExfNDjo0jrHb",
        "outputId": "cfe12697-c85f-42bb-9aa7-b904ae15b2ac"
      },
      "source": [
        "#por idade\n",
        "idade = sns.FacetGrid(df, col=\"idade\")\n",
        "idade.map(plt.scatter, \"interesse\", \"compras\", alpha=.4)\n",
        "genero.add_legend();"
      ],
      "execution_count": 35,
      "outputs": [
        {
          "output_type": "display_data",
          "data": {
            "image/png": "[encoded data removed]",
            "text/plain": [
              "<Figure size 864x216 with 4 Axes>"
            ]
          },
          "metadata": {
            "tags": [],
            "needs_background": "light"
          }
        }
      ]
    },
    {
      "cell_type": "markdown",
      "metadata": {
        "id": "fF-PfIdej0fT"
      },
      "source": [
        "valor_pago_anuncio - Valor pago pela empresa xyz ao Facebook, para exibir aquele anúncio."
      ]
    },
    {
      "cell_type": "code",
      "metadata": {
        "colab": {
          "base_uri": "https://localhost:8080/",
          "height": 296
        },
        "id": "XkcuYee1j10H",
        "outputId": "c4166078-15af-44d8-e3a9-5ad71333d707"
      },
      "source": [
        "plt.scatter(df[\"valor_gasto_anuncio\"], df[\"compras\"])\n",
        "plt.title(\"Valor Pago no Anúncio vs. Compras\")\n",
        "plt.xlabel(\"Valor Pago no Anúncio\")\n",
        "plt.ylabel(\"Compras\")\n",
        "plt.show()"
      ],
      "execution_count": 37,
      "outputs": [
        {
          "output_type": "display_data",
          "data": {
            "image/png": "[encoded data removed]",
            "text/plain": [
              "<Figure size 432x288 with 1 Axes>"
            ]
          },
          "metadata": {
            "tags": [],
            "needs_background": "light"
          }
        }
      ]
    },
    {
      "cell_type": "markdown",
      "metadata": {
        "id": "V2f8RiKskZ4Z"
      },
      "source": [
        "A medida que o dinheiro gasto no anúncio aumenta, o número de produtos comprados aumenta\n",
        "\n",
        "Vamos abrir isso um pouco mais?"
      ]
    },
    {
      "cell_type": "code",
      "metadata": {
        "colab": {
          "base_uri": "https://localhost:8080/",
          "height": 225
        },
        "id": "1k7qWcYgkbbv",
        "outputId": "a2a1ce73-3b09-4dbe-b108-e57e8cfaacf1"
      },
      "source": [
        "#Gênero\n",
        "genero = sns.FacetGrid(df, col=\"genero\")\n",
        "genero.map(plt.scatter, \"valor_gasto_anuncio\", \"compras\", alpha=.4)\n",
        "genero.add_legend();"
      ],
      "execution_count": 38,
      "outputs": [
        {
          "output_type": "display_data",
          "data": {
            "image/png": "[encoded data removed]",
            "text/plain": [
              "<Figure size 440x216 with 2 Axes>"
            ]
          },
          "metadata": {
            "tags": [],
            "needs_background": "light"
          }
        }
      ]
    },
    {
      "cell_type": "code",
      "metadata": {
        "colab": {
          "base_uri": "https://localhost:8080/",
          "height": 225
        },
        "id": "JATpDHf-kqB-",
        "outputId": "2429be53-7a53-45d9-9ad1-db7e52719e5d"
      },
      "source": [
        "#Idade\n",
        "genero = sns.FacetGrid(df, col=\"idade\")\n",
        "genero.map(plt.scatter, \"valor_gasto_anuncio\", \"compras\", alpha=.4)\n",
        "genero.add_legend();"
      ],
      "execution_count": 40,
      "outputs": [
        {
          "output_type": "display_data",
          "data": {
            "image/png": "[encoded data removed]",
            "text/plain": [
              "<Figure size 872x216 with 4 Axes>"
            ]
          },
          "metadata": {
            "tags": [],
            "needs_background": "light"
          }
        }
      ]
    },
    {
      "cell_type": "markdown",
      "metadata": {
        "id": "Q6fRPPhCkzki"
      },
      "source": [
        "numero_exibicoes - o número de vezes que o anúncio foi mostrado."
      ]
    },
    {
      "cell_type": "code",
      "metadata": {
        "colab": {
          "base_uri": "https://localhost:8080/",
          "height": 295
        },
        "id": "Dn5YXsBRk0y7",
        "outputId": "84e7f82a-8309-4b73-b2d9-cdcfee0fc7ad"
      },
      "source": [
        "plt.scatter(df[\"numero_exibicoes\"], df[\"compras\"])\n",
        "plt.title(\"Exibições vs. Compras\")\n",
        "plt.xlabel(\"Exibições\")\n",
        "plt.ylabel(\"Compras\")\n",
        "plt.show()"
      ],
      "execution_count": 41,
      "outputs": [
        {
          "output_type": "display_data",
          "data": {
            "image/png": "[encoded data removed]",
            "text/plain": [
              "<Figure size 432x288 with 1 Axes>"
            ]
          },
          "metadata": {
            "tags": [],
            "needs_background": "light"
          }
        }
      ]
    },
    {
      "cell_type": "markdown",
      "metadata": {
        "id": "V_VWGrHBlBRc"
      },
      "source": [
        "Aumento nas compras após um certo ponto nas exibições"
      ]
    },
    {
      "cell_type": "markdown",
      "metadata": {
        "id": "NHUmLF8KlphS"
      },
      "source": [
        "Pessoal realmente compraram"
      ]
    },
    {
      "cell_type": "code",
      "metadata": {
        "colab": {
          "base_uri": "https://localhost:8080/",
          "height": 225
        },
        "id": "CYWvlbQklqm4",
        "outputId": "12574a1b-66b9-4a2f-c4f3-3c39c12cb7a1"
      },
      "source": [
        "genero = sns.FacetGrid(df, col=\"genero\")\n",
        "genero.map(plt.scatter, \"cliques_no_anuncio\", \"compras\", alpha=.4)\n",
        "genero.add_legend();"
      ],
      "execution_count": 42,
      "outputs": [
        {
          "output_type": "display_data",
          "data": {
            "image/png": "[encoded data removed]",
            "text/plain": [
              "<Figure size 440x216 with 2 Axes>"
            ]
          },
          "metadata": {
            "tags": [],
            "needs_background": "light"
          }
        }
      ]
    },
    {
      "cell_type": "markdown",
      "metadata": {
        "id": "AijsaGTFl_F0"
      },
      "source": [
        "Parece que os homens tendem a clicar mais do que as mulheres, mas as mulheres compram mais produtos do que os homens depois de clicar em adicionar."
      ]
    },
    {
      "cell_type": "code",
      "metadata": {
        "colab": {
          "base_uri": "https://localhost:8080/",
          "height": 225
        },
        "id": "o15p7a7CmApL",
        "outputId": "b868af02-d483-448b-f964-a1b048111644"
      },
      "source": [
        "idade = sns.FacetGrid(df, col=\"idade\")\n",
        "idade.map(plt.scatter, \"cliques_no_anuncio\", \"compras\", alpha=.4)\n",
        "idade.add_legend();"
      ],
      "execution_count": 43,
      "outputs": [
        {
          "output_type": "display_data",
          "data": {
            "image/png": "[encoded data removed]",
            "text/plain": [
              "<Figure size 872x216 with 4 Axes>"
            ]
          },
          "metadata": {
            "tags": [],
            "needs_background": "light"
          }
        }
      ]
    },
    {
      "cell_type": "markdown",
      "metadata": {
        "id": "1tVfpKoDmeko"
      },
      "source": [
        "Pessoas na faixa etária de 30 a 34 anos têm mais tendência a comprar o produto depois de clicar em adicionar.\n",
        "\n",
        "A faixa etária de 30 a 34 anos tende a levar menos tempo para tomar decisões, seguida por 35 a 39 anos e 40 a 44 anos.\n",
        "\n",
        "Além disso, campanha_1 se sai muito bem, considerando o número de anúncios que envolve. Com um número menor de anúncios, ele conseguiu um desempenho melhor do que o campanha_2 com um grande número de anúncios."
      ]
    },
    {
      "cell_type": "markdown",
      "metadata": {
        "id": "VlZ-XCRRmhX6"
      },
      "source": [
        "Etapa 4: Modelagem/Machine Learning"
      ]
    },
    {
      "cell_type": "code",
      "metadata": {
        "colab": {
          "base_uri": "https://localhost:8080/"
        },
        "id": "vMXUJJ40mka8",
        "outputId": "8310636b-6a13-45ad-c4fe-0d72a6d2f34d"
      },
      "source": [
        "df.shape"
      ],
      "execution_count": 45,
      "outputs": [
        {
          "output_type": "execute_result",
          "data": {
            "text/plain": [
              "(1143, 11)"
            ]
          },
          "metadata": {
            "tags": []
          },
          "execution_count": 45
        }
      ]
    },
    {
      "cell_type": "code",
      "metadata": {
        "id": "7HmZd0YJmyQm"
      },
      "source": [
        "amostra_df = df.sample(n=20)"
      ],
      "execution_count": 46,
      "outputs": []
    },
    {
      "cell_type": "code",
      "metadata": {
        "colab": {
          "base_uri": "https://localhost:8080/"
        },
        "id": "cOLdiK8onA4-",
        "outputId": "d2cc2b64-5c13-4d0a-a3a4-3547e6fd5965"
      },
      "source": [
        "amostra_df.shape"
      ],
      "execution_count": 47,
      "outputs": [
        {
          "output_type": "execute_result",
          "data": {
            "text/plain": [
              "(20, 11)"
            ]
          },
          "metadata": {
            "tags": []
          },
          "execution_count": 47
        }
      ]
    },
    {
      "cell_type": "code",
      "metadata": {
        "colab": {
          "base_uri": "https://localhost:8080/",
          "height": 303
        },
        "id": "huReZKOwnHCE",
        "outputId": "986ce34c-fedb-4d5e-ac66-e5c538642872"
      },
      "source": [
        "sns.pairplot(amostra_df, x_vars=['cliques_no_anuncio'], y_vars=['valor_gasto_anuncio'], height=4, kind=\"scatter\")\n",
        "plt.show()"
      ],
      "execution_count": 48,
      "outputs": [
        {
          "output_type": "display_data",
          "data": {
            "image/png": "[encoded data removed]",
            "text/plain": [
              "<Figure size 288x288 with 1 Axes>"
            ]
          },
          "metadata": {
            "tags": [],
            "needs_background": "light"
          }
        }
      ]
    },
    {
      "cell_type": "code",
      "metadata": {
        "colab": {
          "base_uri": "https://localhost:8080/",
          "height": 303
        },
        "id": "zbLTuGJCn49H",
        "outputId": "ca047a53-30a2-46c4-bd02-15c1c198124c"
      },
      "source": [
        "sns.pairplot(df, x_vars=['cliques_no_anuncio'], y_vars=['valor_gasto_anuncio'], height=4, kind=\"scatter\")\n",
        "plt.show()"
      ],
      "execution_count": 49,
      "outputs": [
        {
          "output_type": "display_data",
          "data": {
            "image/png": "[encoded data removed]",
            "text/plain": [
              "<Figure size 288x288 with 1 Axes>"
            ]
          },
          "metadata": {
            "tags": [],
            "needs_background": "light"
          }
        }
      ]
    },
    {
      "cell_type": "code",
      "metadata": {
        "colab": {
          "base_uri": "https://localhost:8080/",
          "height": 204
        },
        "id": "YrZdQaiQoOdP",
        "outputId": "6f33a85c-9c7b-4a3d-b981-5cfd85c7e107"
      },
      "source": [
        "df.head()"
      ],
      "execution_count": 50,
      "outputs": [
        {
          "output_type": "execute_result",
          "data": {
            "text/html": [
              "<div>\n",
              "<style scoped>\n",
              "    .dataframe tbody tr th:only-of-type {\n",
              "        vertical-align: middle;\n",
              "    }\n",
              "\n",
              "    .dataframe tbody tr th {\n",
              "        vertical-align: top;\n",
              "    }\n",
              "\n",
              "    .dataframe thead th {\n",
              "        text-align: right;\n",
              "    }\n",
              "</style>\n",
              "<table border=\"1\" class=\"dataframe\">\n",
              "  <thead>\n",
              "    <tr style=\"text-align: right;\">\n",
              "      <th></th>\n",
              "      <th>id_anuncio</th>\n",
              "      <th>id_campanha</th>\n",
              "      <th>id_fb_campanha</th>\n",
              "      <th>idade</th>\n",
              "      <th>genero</th>\n",
              "      <th>interesse</th>\n",
              "      <th>numero_exibicoes</th>\n",
              "      <th>cliques_no_anuncio</th>\n",
              "      <th>valor_gasto_anuncio</th>\n",
              "      <th>conversao</th>\n",
              "      <th>compras</th>\n",
              "    </tr>\n",
              "  </thead>\n",
              "  <tbody>\n",
              "    <tr>\n",
              "      <th>0</th>\n",
              "      <td>708746</td>\n",
              "      <td>campanha_1</td>\n",
              "      <td>103916</td>\n",
              "      <td>30-34</td>\n",
              "      <td>M</td>\n",
              "      <td>15</td>\n",
              "      <td>7350</td>\n",
              "      <td>1</td>\n",
              "      <td>1.43</td>\n",
              "      <td>2</td>\n",
              "      <td>1</td>\n",
              "    </tr>\n",
              "    <tr>\n",
              "      <th>1</th>\n",
              "      <td>708749</td>\n",
              "      <td>campanha_1</td>\n",
              "      <td>103917</td>\n",
              "      <td>30-34</td>\n",
              "      <td>M</td>\n",
              "      <td>16</td>\n",
              "      <td>17861</td>\n",
              "      <td>2</td>\n",
              "      <td>1.82</td>\n",
              "      <td>2</td>\n",
              "      <td>0</td>\n",
              "    </tr>\n",
              "    <tr>\n",
              "      <th>2</th>\n",
              "      <td>708771</td>\n",
              "      <td>campanha_1</td>\n",
              "      <td>103920</td>\n",
              "      <td>30-34</td>\n",
              "      <td>M</td>\n",
              "      <td>20</td>\n",
              "      <td>693</td>\n",
              "      <td>0</td>\n",
              "      <td>0.00</td>\n",
              "      <td>1</td>\n",
              "      <td>0</td>\n",
              "    </tr>\n",
              "    <tr>\n",
              "      <th>3</th>\n",
              "      <td>708815</td>\n",
              "      <td>campanha_1</td>\n",
              "      <td>103928</td>\n",
              "      <td>30-34</td>\n",
              "      <td>M</td>\n",
              "      <td>28</td>\n",
              "      <td>4259</td>\n",
              "      <td>1</td>\n",
              "      <td>1.25</td>\n",
              "      <td>1</td>\n",
              "      <td>0</td>\n",
              "    </tr>\n",
              "    <tr>\n",
              "      <th>4</th>\n",
              "      <td>708818</td>\n",
              "      <td>campanha_1</td>\n",
              "      <td>103928</td>\n",
              "      <td>30-34</td>\n",
              "      <td>M</td>\n",
              "      <td>28</td>\n",
              "      <td>4133</td>\n",
              "      <td>1</td>\n",
              "      <td>1.29</td>\n",
              "      <td>1</td>\n",
              "      <td>1</td>\n",
              "    </tr>\n",
              "  </tbody>\n",
              "</table>\n",
              "</div>"
            ],
            "text/plain": [
              "   id_anuncio id_campanha  ...  conversao compras\n",
              "0      708746  campanha_1  ...          2       1\n",
              "1      708749  campanha_1  ...          2       0\n",
              "2      708771  campanha_1  ...          1       0\n",
              "3      708815  campanha_1  ...          1       0\n",
              "4      708818  campanha_1  ...          1       1\n",
              "\n",
              "[5 rows x 11 columns]"
            ]
          },
          "metadata": {
            "tags": []
          },
          "execution_count": 50
        }
      ]
    },
    {
      "cell_type": "code",
      "metadata": {
        "id": "kCKzLC5PoYRY"
      },
      "source": [
        "#Trocar idade\n",
        "df = df.replace('30-34',0.0011)\n",
        "df = df.replace('35-39',0.0012)\n",
        "df = df.replace('40-44',0.0013)\n",
        "df = df.replace('45-49',0.0014)"
      ],
      "execution_count": 51,
      "outputs": []
    },
    {
      "cell_type": "code",
      "metadata": {
        "colab": {
          "base_uri": "https://localhost:8080/",
          "height": 204
        },
        "id": "-bUb_qe3oprc",
        "outputId": "83becdeb-cbe2-4815-a1ec-6f382a0d5641"
      },
      "source": [
        "df.head()"
      ],
      "execution_count": 52,
      "outputs": [
        {
          "output_type": "execute_result",
          "data": {
            "text/html": [
              "<div>\n",
              "<style scoped>\n",
              "    .dataframe tbody tr th:only-of-type {\n",
              "        vertical-align: middle;\n",
              "    }\n",
              "\n",
              "    .dataframe tbody tr th {\n",
              "        vertical-align: top;\n",
              "    }\n",
              "\n",
              "    .dataframe thead th {\n",
              "        text-align: right;\n",
              "    }\n",
              "</style>\n",
              "<table border=\"1\" class=\"dataframe\">\n",
              "  <thead>\n",
              "    <tr style=\"text-align: right;\">\n",
              "      <th></th>\n",
              "      <th>id_anuncio</th>\n",
              "      <th>id_campanha</th>\n",
              "      <th>id_fb_campanha</th>\n",
              "      <th>idade</th>\n",
              "      <th>genero</th>\n",
              "      <th>interesse</th>\n",
              "      <th>numero_exibicoes</th>\n",
              "      <th>cliques_no_anuncio</th>\n",
              "      <th>valor_gasto_anuncio</th>\n",
              "      <th>conversao</th>\n",
              "      <th>compras</th>\n",
              "    </tr>\n",
              "  </thead>\n",
              "  <tbody>\n",
              "    <tr>\n",
              "      <th>0</th>\n",
              "      <td>708746</td>\n",
              "      <td>campanha_1</td>\n",
              "      <td>103916</td>\n",
              "      <td>0.0011</td>\n",
              "      <td>M</td>\n",
              "      <td>15</td>\n",
              "      <td>7350</td>\n",
              "      <td>1</td>\n",
              "      <td>1.43</td>\n",
              "      <td>2</td>\n",
              "      <td>1</td>\n",
              "    </tr>\n",
              "    <tr>\n",
              "      <th>1</th>\n",
              "      <td>708749</td>\n",
              "      <td>campanha_1</td>\n",
              "      <td>103917</td>\n",
              "      <td>0.0011</td>\n",
              "      <td>M</td>\n",
              "      <td>16</td>\n",
              "      <td>17861</td>\n",
              "      <td>2</td>\n",
              "      <td>1.82</td>\n",
              "      <td>2</td>\n",
              "      <td>0</td>\n",
              "    </tr>\n",
              "    <tr>\n",
              "      <th>2</th>\n",
              "      <td>708771</td>\n",
              "      <td>campanha_1</td>\n",
              "      <td>103920</td>\n",
              "      <td>0.0011</td>\n",
              "      <td>M</td>\n",
              "      <td>20</td>\n",
              "      <td>693</td>\n",
              "      <td>0</td>\n",
              "      <td>0.00</td>\n",
              "      <td>1</td>\n",
              "      <td>0</td>\n",
              "    </tr>\n",
              "    <tr>\n",
              "      <th>3</th>\n",
              "      <td>708815</td>\n",
              "      <td>campanha_1</td>\n",
              "      <td>103928</td>\n",
              "      <td>0.0011</td>\n",
              "      <td>M</td>\n",
              "      <td>28</td>\n",
              "      <td>4259</td>\n",
              "      <td>1</td>\n",
              "      <td>1.25</td>\n",
              "      <td>1</td>\n",
              "      <td>0</td>\n",
              "    </tr>\n",
              "    <tr>\n",
              "      <th>4</th>\n",
              "      <td>708818</td>\n",
              "      <td>campanha_1</td>\n",
              "      <td>103928</td>\n",
              "      <td>0.0011</td>\n",
              "      <td>M</td>\n",
              "      <td>28</td>\n",
              "      <td>4133</td>\n",
              "      <td>1</td>\n",
              "      <td>1.29</td>\n",
              "      <td>1</td>\n",
              "      <td>1</td>\n",
              "    </tr>\n",
              "  </tbody>\n",
              "</table>\n",
              "</div>"
            ],
            "text/plain": [
              "   id_anuncio id_campanha  ...  conversao  compras\n",
              "0      708746  campanha_1  ...          2        1\n",
              "1      708749  campanha_1  ...          2        0\n",
              "2      708771  campanha_1  ...          1        0\n",
              "3      708815  campanha_1  ...          1        0\n",
              "4      708818  campanha_1  ...          1        1\n",
              "\n",
              "[5 rows x 11 columns]"
            ]
          },
          "metadata": {
            "tags": []
          },
          "execution_count": 52
        }
      ]
    },
    {
      "cell_type": "code",
      "metadata": {
        "id": "LaFrxfWkotTV"
      },
      "source": [
        "# trocando os sexos para um valor numerico para o algoritimo trabalhar melhor\n",
        "\n",
        "df = df.replace('M',1)\n",
        "df = df.replace('F',0)"
      ],
      "execution_count": 53,
      "outputs": []
    },
    {
      "cell_type": "code",
      "metadata": {
        "colab": {
          "base_uri": "https://localhost:8080/",
          "height": 204
        },
        "id": "6cVUV7apo-UA",
        "outputId": "8615e15b-ebe6-4d1d-fcc7-71fedc2fe9e3"
      },
      "source": [
        "df.head()"
      ],
      "execution_count": 54,
      "outputs": [
        {
          "output_type": "execute_result",
          "data": {
            "text/html": [
              "<div>\n",
              "<style scoped>\n",
              "    .dataframe tbody tr th:only-of-type {\n",
              "        vertical-align: middle;\n",
              "    }\n",
              "\n",
              "    .dataframe tbody tr th {\n",
              "        vertical-align: top;\n",
              "    }\n",
              "\n",
              "    .dataframe thead th {\n",
              "        text-align: right;\n",
              "    }\n",
              "</style>\n",
              "<table border=\"1\" class=\"dataframe\">\n",
              "  <thead>\n",
              "    <tr style=\"text-align: right;\">\n",
              "      <th></th>\n",
              "      <th>id_anuncio</th>\n",
              "      <th>id_campanha</th>\n",
              "      <th>id_fb_campanha</th>\n",
              "      <th>idade</th>\n",
              "      <th>genero</th>\n",
              "      <th>interesse</th>\n",
              "      <th>numero_exibicoes</th>\n",
              "      <th>cliques_no_anuncio</th>\n",
              "      <th>valor_gasto_anuncio</th>\n",
              "      <th>conversao</th>\n",
              "      <th>compras</th>\n",
              "    </tr>\n",
              "  </thead>\n",
              "  <tbody>\n",
              "    <tr>\n",
              "      <th>0</th>\n",
              "      <td>708746</td>\n",
              "      <td>campanha_1</td>\n",
              "      <td>103916</td>\n",
              "      <td>0.0011</td>\n",
              "      <td>1</td>\n",
              "      <td>15</td>\n",
              "      <td>7350</td>\n",
              "      <td>1</td>\n",
              "      <td>1.43</td>\n",
              "      <td>2</td>\n",
              "      <td>1</td>\n",
              "    </tr>\n",
              "    <tr>\n",
              "      <th>1</th>\n",
              "      <td>708749</td>\n",
              "      <td>campanha_1</td>\n",
              "      <td>103917</td>\n",
              "      <td>0.0011</td>\n",
              "      <td>1</td>\n",
              "      <td>16</td>\n",
              "      <td>17861</td>\n",
              "      <td>2</td>\n",
              "      <td>1.82</td>\n",
              "      <td>2</td>\n",
              "      <td>0</td>\n",
              "    </tr>\n",
              "    <tr>\n",
              "      <th>2</th>\n",
              "      <td>708771</td>\n",
              "      <td>campanha_1</td>\n",
              "      <td>103920</td>\n",
              "      <td>0.0011</td>\n",
              "      <td>1</td>\n",
              "      <td>20</td>\n",
              "      <td>693</td>\n",
              "      <td>0</td>\n",
              "      <td>0.00</td>\n",
              "      <td>1</td>\n",
              "      <td>0</td>\n",
              "    </tr>\n",
              "    <tr>\n",
              "      <th>3</th>\n",
              "      <td>708815</td>\n",
              "      <td>campanha_1</td>\n",
              "      <td>103928</td>\n",
              "      <td>0.0011</td>\n",
              "      <td>1</td>\n",
              "      <td>28</td>\n",
              "      <td>4259</td>\n",
              "      <td>1</td>\n",
              "      <td>1.25</td>\n",
              "      <td>1</td>\n",
              "      <td>0</td>\n",
              "    </tr>\n",
              "    <tr>\n",
              "      <th>4</th>\n",
              "      <td>708818</td>\n",
              "      <td>campanha_1</td>\n",
              "      <td>103928</td>\n",
              "      <td>0.0011</td>\n",
              "      <td>1</td>\n",
              "      <td>28</td>\n",
              "      <td>4133</td>\n",
              "      <td>1</td>\n",
              "      <td>1.29</td>\n",
              "      <td>1</td>\n",
              "      <td>1</td>\n",
              "    </tr>\n",
              "  </tbody>\n",
              "</table>\n",
              "</div>"
            ],
            "text/plain": [
              "   id_anuncio id_campanha  ...  conversao  compras\n",
              "0      708746  campanha_1  ...          2        1\n",
              "1      708749  campanha_1  ...          2        0\n",
              "2      708771  campanha_1  ...          1        0\n",
              "3      708815  campanha_1  ...          1        0\n",
              "4      708818  campanha_1  ...          1        1\n",
              "\n",
              "[5 rows x 11 columns]"
            ]
          },
          "metadata": {
            "tags": []
          },
          "execution_count": 54
        }
      ]
    },
    {
      "cell_type": "markdown",
      "metadata": {
        "id": "I-UIROuRpIwx"
      },
      "source": [
        "trabalhando com os elementos x e y do grafico, mantendo y como o valor pago por anuncio e x sendo as outras feuteres para ver a relação delas com y"
      ]
    },
    {
      "cell_type": "code",
      "metadata": {
        "id": "MDCakvPVpaBm"
      },
      "source": [
        "X= df[['idade', 'genero', 'interesse', 'numero_exibicoes', 'cliques_no_anuncio']]\n",
        "\n",
        "\n",
        "y = df['valor_gasto_anuncio']"
      ],
      "execution_count": 66,
      "outputs": []
    },
    {
      "cell_type": "markdown",
      "metadata": {
        "id": "w4Bb2PoAp2Lp"
      },
      "source": [
        "separando uma parte dos dados em dados de treino e dados de teste"
      ]
    },
    {
      "cell_type": "code",
      "metadata": {
        "id": "-WjhhtYVp8RY"
      },
      "source": [
        "from sklearn.model_selection import train_test_split\n",
        "\n",
        "''' esta desempacotando os dados em x e y de treino e de teste, separando 30% dos dados para treino''' \n",
        "X_train, X_test, y_train, y_test = train_test_split(X, y, test_size = 0.3, random_state = 32)  \n"
      ],
      "execution_count": 67,
      "outputs": []
    },
    {
      "cell_type": "code",
      "metadata": {
        "colab": {
          "base_uri": "https://localhost:8080/"
        },
        "id": "mL1oYA8urXFQ",
        "outputId": "97ac02a3-6c01-4707-a07b-0e6e48dfefb6"
      },
      "source": [
        "X_train.shape"
      ],
      "execution_count": 68,
      "outputs": [
        {
          "output_type": "execute_result",
          "data": {
            "text/plain": [
              "(800, 5)"
            ]
          },
          "metadata": {
            "tags": []
          },
          "execution_count": 68
        }
      ]
    },
    {
      "cell_type": "code",
      "metadata": {
        "colab": {
          "base_uri": "https://localhost:8080/",
          "height": 204
        },
        "id": "pnn69IqirgL0",
        "outputId": "8319b412-1a47-4bea-d5ed-575b30ee3326"
      },
      "source": [
        "X_train.head()"
      ],
      "execution_count": 69,
      "outputs": [
        {
          "output_type": "execute_result",
          "data": {
            "text/html": [
              "<div>\n",
              "<style scoped>\n",
              "    .dataframe tbody tr th:only-of-type {\n",
              "        vertical-align: middle;\n",
              "    }\n",
              "\n",
              "    .dataframe tbody tr th {\n",
              "        vertical-align: top;\n",
              "    }\n",
              "\n",
              "    .dataframe thead th {\n",
              "        text-align: right;\n",
              "    }\n",
              "</style>\n",
              "<table border=\"1\" class=\"dataframe\">\n",
              "  <thead>\n",
              "    <tr style=\"text-align: right;\">\n",
              "      <th></th>\n",
              "      <th>idade</th>\n",
              "      <th>genero</th>\n",
              "      <th>interesse</th>\n",
              "      <th>numero_exibicoes</th>\n",
              "      <th>cliques_no_anuncio</th>\n",
              "    </tr>\n",
              "  </thead>\n",
              "  <tbody>\n",
              "    <tr>\n",
              "      <th>640</th>\n",
              "      <td>0.0012</td>\n",
              "      <td>1</td>\n",
              "      <td>21</td>\n",
              "      <td>271091</td>\n",
              "      <td>42</td>\n",
              "    </tr>\n",
              "    <tr>\n",
              "      <th>852</th>\n",
              "      <td>0.0011</td>\n",
              "      <td>0</td>\n",
              "      <td>24</td>\n",
              "      <td>185665</td>\n",
              "      <td>39</td>\n",
              "    </tr>\n",
              "    <tr>\n",
              "      <th>311</th>\n",
              "      <td>0.0013</td>\n",
              "      <td>1</td>\n",
              "      <td>29</td>\n",
              "      <td>10090</td>\n",
              "      <td>2</td>\n",
              "    </tr>\n",
              "    <tr>\n",
              "      <th>803</th>\n",
              "      <td>0.0014</td>\n",
              "      <td>1</td>\n",
              "      <td>29</td>\n",
              "      <td>563074</td>\n",
              "      <td>86</td>\n",
              "    </tr>\n",
              "    <tr>\n",
              "      <th>105</th>\n",
              "      <td>0.0014</td>\n",
              "      <td>0</td>\n",
              "      <td>10</td>\n",
              "      <td>73634</td>\n",
              "      <td>23</td>\n",
              "    </tr>\n",
              "  </tbody>\n",
              "</table>\n",
              "</div>"
            ],
            "text/plain": [
              "      idade  genero  interesse  numero_exibicoes  cliques_no_anuncio\n",
              "640  0.0012       1         21            271091                  42\n",
              "852  0.0011       0         24            185665                  39\n",
              "311  0.0013       1         29             10090                   2\n",
              "803  0.0014       1         29            563074                  86\n",
              "105  0.0014       0         10             73634                  23"
            ]
          },
          "metadata": {
            "tags": []
          },
          "execution_count": 69
        }
      ]
    },
    {
      "cell_type": "code",
      "metadata": {
        "colab": {
          "base_uri": "https://localhost:8080/"
        },
        "id": "qjthZlMIrmAb",
        "outputId": "e47ac334-3477-4969-845c-80f7592387e5"
      },
      "source": [
        "y_train.head()"
      ],
      "execution_count": 70,
      "outputs": [
        {
          "output_type": "execute_result",
          "data": {
            "text/plain": [
              "640     78.040000\n",
              "852     62.140001\n",
              "311      2.650000\n",
              "803    142.709999\n",
              "105     32.980000\n",
              "Name: valor_gasto_anuncio, dtype: float64"
            ]
          },
          "metadata": {
            "tags": []
          },
          "execution_count": 70
        }
      ]
    },
    {
      "cell_type": "code",
      "metadata": {
        "id": "ivzYes1BsC8w"
      },
      "source": [
        "from sklearn.linear_model import LinearRegression # importando a bibiliteca de regreção linear\n",
        "\n",
        "model = LinearRegression()"
      ],
      "execution_count": 71,
      "outputs": []
    },
    {
      "cell_type": "code",
      "metadata": {
        "colab": {
          "base_uri": "https://localhost:8080/"
        },
        "id": "5fu9zzposYFO",
        "outputId": "e0b209f2-01e8-4682-81e3-e103b440b2d6"
      },
      "source": [
        "model"
      ],
      "execution_count": 72,
      "outputs": [
        {
          "output_type": "execute_result",
          "data": {
            "text/plain": [
              "LinearRegression(copy_X=True, fit_intercept=True, n_jobs=None, normalize=False)"
            ]
          },
          "metadata": {
            "tags": []
          },
          "execution_count": 72
        }
      ]
    },
    {
      "cell_type": "code",
      "metadata": {
        "colab": {
          "base_uri": "https://localhost:8080/"
        },
        "id": "2ZP-k3SlsiX5",
        "outputId": "246f896f-6217-4c89-e064-df100c27a3d1"
      },
      "source": [
        "model.fit(X_train, y_train)"
      ],
      "execution_count": 73,
      "outputs": [
        {
          "output_type": "execute_result",
          "data": {
            "text/plain": [
              "LinearRegression(copy_X=True, fit_intercept=True, n_jobs=None, normalize=False)"
            ]
          },
          "metadata": {
            "tags": []
          },
          "execution_count": 73
        }
      ]
    },
    {
      "cell_type": "markdown",
      "metadata": {
        "id": "eEvbkK-qsrcQ"
      },
      "source": [
        "Faz um fit, ou seja, encontra a linha que melhor se ajusta aos dados\n",
        "\n",
        "y = a*x + b"
      ]
    },
    {
      "cell_type": "code",
      "metadata": {
        "colab": {
          "base_uri": "https://localhost:8080/"
        },
        "id": "9S_26xz6sq1p",
        "outputId": "209bd2dc-91cb-468c-d5da-de1aef57feb4"
      },
      "source": [
        "model.coef_"
      ],
      "execution_count": 74,
      "outputs": [
        {
          "output_type": "execute_result",
          "data": {
            "text/plain": [
              "array([ 1.11543951e+04,  2.54714226e+00, -6.87113770e-02,  8.85162529e-05,\n",
              "        1.06012421e+00])"
            ]
          },
          "metadata": {
            "tags": []
          },
          "execution_count": 74
        }
      ]
    },
    {
      "cell_type": "code",
      "metadata": {
        "colab": {
          "base_uri": "https://localhost:8080/"
        },
        "id": "iMKiEGPMs5eF",
        "outputId": "8786130b-9675-4f38-bc12-ebef682442c3"
      },
      "source": [
        "model.intercept_"
      ],
      "execution_count": 75,
      "outputs": [
        {
          "output_type": "execute_result",
          "data": {
            "text/plain": [
              "-13.191111867749427"
            ]
          },
          "metadata": {
            "tags": []
          },
          "execution_count": 75
        }
      ]
    },
    {
      "cell_type": "code",
      "metadata": {
        "colab": {
          "base_uri": "https://localhost:8080/"
        },
        "id": "mNrk1yEUtDfZ",
        "outputId": "8fb5e6c2-dfed-427e-9c5c-996413e68378"
      },
      "source": [
        "model.score(X_test, y_test) * 100"
      ],
      "execution_count": 76,
      "outputs": [
        {
          "output_type": "execute_result",
          "data": {
            "text/plain": [
              "99.4899077013531"
            ]
          },
          "metadata": {
            "tags": []
          },
          "execution_count": 76
        }
      ]
    },
    {
      "cell_type": "markdown",
      "metadata": {
        "id": "HFQ8H0s-tttQ"
      },
      "source": [
        "quando o valor esta muito alto de acerto desconfie poir geralmente nao é tão bom"
      ]
    },
    {
      "cell_type": "code",
      "metadata": {
        "colab": {
          "base_uri": "https://localhost:8080/"
        },
        "id": "4VuspRqpt2Ay",
        "outputId": "8620924f-b8ba-4fdf-d8c4-62b9b0fef9ec"
      },
      "source": [
        "idade = float(input(\"Idade: \"))\n",
        "genero = int(input(\"Gênero: \"))\n",
        "interesse = int(input(\"Interesse: \"))\n",
        "numero_exibicoes = int(input(\"Exibições: \"))\n",
        "cliques_no_anuncio = int(input(\"Cliques: \"))"
      ],
      "execution_count": 78,
      "outputs": [
        {
          "output_type": "stream",
          "text": [
            "Idade: 0.0011\n",
            "Gênero: 1\n",
            "Interesse: 28\n",
            "Exibições: 8000\n",
            "Cliques: 1\n"
          ],
          "name": "stdout"
        }
      ]
    },
    {
      "cell_type": "code",
      "metadata": {
        "id": "IF-dS4Ruuy9S"
      },
      "source": [
        "pred = model.predict([[idade, genero, interesse, numero_exibicoes, cliques_no_anuncio]])"
      ],
      "execution_count": 80,
      "outputs": []
    },
    {
      "cell_type": "code",
      "metadata": {
        "colab": {
          "base_uri": "https://localhost:8080/"
        },
        "id": "RX06A2kAvKdU",
        "outputId": "d4ca4366-f685-4fe6-8bd6-cb95287ce13e"
      },
      "source": [
        "print(pred)  # gasta esse valor por pessoa por anuncio"
      ],
      "execution_count": 81,
      "outputs": [
        {
          "output_type": "stream",
          "text": [
            "[1.47020066]\n"
          ],
          "name": "stdout"
        }
      ]
    }
  ]
}